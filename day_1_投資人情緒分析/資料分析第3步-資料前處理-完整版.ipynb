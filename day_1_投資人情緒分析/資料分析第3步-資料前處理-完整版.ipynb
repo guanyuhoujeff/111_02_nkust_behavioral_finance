{
 "cells": [
  {
   "cell_type": "markdown",
   "metadata": {},
   "source": [
    "## 套件"
   ]
  },
  {
   "cell_type": "code",
   "execution_count": null,
   "metadata": {},
   "outputs": [],
   "source": [
    "import pandas as pd"
   ]
  },
  {
   "cell_type": "markdown",
   "metadata": {},
   "source": [
    "### 讀取 價格、財報、法人、資券資料"
   ]
  },
  {
   "cell_type": "code",
   "execution_count": null,
   "metadata": {},
   "outputs": [],
   "source": [
    "price_data = pd.read_csv('../data/price.txt',  encoding='cp950')\n",
    "ifrs_data = pd.read_csv('../data/ifrs.txt',  encoding='cp950')\n",
    "institution_data = pd.read_csv('../data/institution.txt',  encoding='cp950')\n",
    "margin_data = pd.read_csv('../data/margin.txt',  encoding='cp950')"
   ]
  },
  {
   "cell_type": "markdown",
   "metadata": {},
   "source": [
    "# 欄位改名"
   ]
  },
  {
   "cell_type": "code",
   "execution_count": null,
   "metadata": {},
   "outputs": [],
   "source": [
    "from utils import rename_column_maplist"
   ]
  },
  {
   "cell_type": "code",
   "execution_count": null,
   "metadata": {},
   "outputs": [],
   "source": [
    "rename_column_maplist"
   ]
  },
  {
   "cell_type": "code",
   "execution_count": null,
   "metadata": {},
   "outputs": [],
   "source": [
    "price_data.rename(columns=rename_column_maplist, inplace=True)\n",
    "ifrs_data.rename(columns=rename_column_maplist, inplace=True)\n",
    "institution_data.rename(columns=rename_column_maplist, inplace=True)\n",
    "margin_data.rename(columns=rename_column_maplist, inplace=True)"
   ]
  },
  {
   "cell_type": "markdown",
   "metadata": {},
   "source": [
    "# 資料前處理"
   ]
  },
  {
   "cell_type": "markdown",
   "metadata": {},
   "source": [
    "# 欄位的加減乘除"
   ]
  },
  {
   "cell_type": "code",
   "execution_count": null,
   "metadata": {
    "scrolled": false
   },
   "outputs": [],
   "source": [
    "# 成交金額 = 收盤價 * 成交量\n",
    "\n",
    "price_data['close'] * price_data['volume']"
   ]
  },
  {
   "cell_type": "code",
   "execution_count": null,
   "metadata": {},
   "outputs": [],
   "source": [
    "price_data.info()"
   ]
  },
  {
   "cell_type": "code",
   "execution_count": null,
   "metadata": {},
   "outputs": [],
   "source": [
    "# 股價淨值比\n",
    "# 怎麼怪怪的\n",
    "\n",
    "price_data['PB_TSE'] * 2"
   ]
  },
  {
   "cell_type": "markdown",
   "metadata": {},
   "source": [
    "# 還有什麼欄位也有問題？"
   ]
  },
  {
   "cell_type": "code",
   "execution_count": null,
   "metadata": {},
   "outputs": [],
   "source": [
    "price_data[['name', 'code', 'new_industry', 'industry']].values"
   ]
  },
  {
   "cell_type": "code",
   "execution_count": null,
   "metadata": {
    "scrolled": true
   },
   "outputs": [],
   "source": [
    "ifrs_data.head()"
   ]
  },
  {
   "cell_type": "markdown",
   "metadata": {},
   "source": [
    "1. name, code, new_industry, industry 有空白\n",
    "2. 有些 code 是數字\n",
    "3. 部分公司的 PB_TSE, YOY, TAR 是字串\n",
    "4. 營收資料是月資料"
   ]
  },
  {
   "cell_type": "markdown",
   "metadata": {},
   "source": [
    "# 利用 apply 欄位資料逐步處理"
   ]
  },
  {
   "cell_type": "code",
   "execution_count": null,
   "metadata": {},
   "outputs": [],
   "source": [
    "def testApply(value):\n",
    "    print('value => ', value)\n",
    "    return value"
   ]
  },
  {
   "cell_type": "code",
   "execution_count": null,
   "metadata": {
    "scrolled": true
   },
   "outputs": [],
   "source": [
    "price_data['name'].apply(testApply)"
   ]
  },
  {
   "cell_type": "markdown",
   "metadata": {},
   "source": [
    "### 處理空白"
   ]
  },
  {
   "cell_type": "code",
   "execution_count": null,
   "metadata": {},
   "outputs": [],
   "source": [
    "def cleanStringSpace(value):\n",
    "    return str(value).strip()"
   ]
  },
  {
   "cell_type": "code",
   "execution_count": null,
   "metadata": {},
   "outputs": [],
   "source": [
    "# 代號\n",
    "price_data['code'] = price_data['code'].apply(cleanStringSpace)\n",
    "institution_data['code'] = institution_data['code'].apply(cleanStringSpace)\n",
    "margin_data['code'] = margin_data['code'].apply(cleanStringSpace)\n",
    "ifrs_data['code'] = ifrs_data['code'].apply(cleanStringSpace)\n",
    "\n",
    "# 名字\n",
    "price_data['name'] = price_data['name'].apply(cleanStringSpace)\n",
    "institution_data['name'] = institution_data['name'].apply(cleanStringSpace)\n",
    "margin_data['name'] = margin_data['name'].apply(cleanStringSpace)\n",
    "ifrs_data['name'] = ifrs_data['name'].apply(cleanStringSpace)\n",
    "\n",
    "# 產業\n",
    "price_data['new_industry'] = price_data['new_industry'].apply(cleanStringSpace)\n",
    "price_data['industry'] = price_data['industry'].apply(cleanStringSpace)"
   ]
  },
  {
   "cell_type": "markdown",
   "metadata": {},
   "source": [
    "# 處理 字串 -> 數值"
   ]
  },
  {
   "cell_type": "code",
   "execution_count": null,
   "metadata": {},
   "outputs": [],
   "source": [
    "def StringToFloat(value):\n",
    "    return float(value)"
   ]
  },
  {
   "cell_type": "code",
   "execution_count": null,
   "metadata": {},
   "outputs": [],
   "source": [
    "# 財報\n",
    "price_data['PB_TSE'] = price_data['PB_TSE'].apply(StringToFloat)\n",
    "ifrs_data['YOY'] = ifrs_data['YOY'].apply(StringToFloat)\n",
    "ifrs_data['TAR'] = ifrs_data['TAR'].apply(StringToFloat)"
   ]
  },
  {
   "cell_type": "code",
   "execution_count": null,
   "metadata": {},
   "outputs": [],
   "source": [
    "price_data.head()"
   ]
  },
  {
   "cell_type": "code",
   "execution_count": null,
   "metadata": {},
   "outputs": [],
   "source": [
    "ifrs_data.head()"
   ]
  },
  {
   "cell_type": "code",
   "execution_count": null,
   "metadata": {},
   "outputs": [],
   "source": []
  },
  {
   "cell_type": "markdown",
   "metadata": {},
   "source": [
    "#  合計週轉率 與 資券比"
   ]
  },
  {
   "cell_type": "code",
   "execution_count": null,
   "metadata": {},
   "outputs": [],
   "source": [
    "institution_data.head()"
   ]
  },
  {
   "cell_type": "code",
   "execution_count": null,
   "metadata": {},
   "outputs": [],
   "source": [
    "institution_data['intitution_turnover_rate'] = institution_data[['foreign_turnover_rate', 'trust_turnover_rate', 'broker_turnover_rate']].sum(1)\n",
    "institution_data"
   ]
  },
  {
   "cell_type": "markdown",
   "metadata": {},
   "source": [
    "# 資券比"
   ]
  },
  {
   "cell_type": "code",
   "execution_count": null,
   "metadata": {},
   "outputs": [],
   "source": [
    "margin_data.head()"
   ]
  },
  {
   "cell_type": "code",
   "execution_count": null,
   "metadata": {},
   "outputs": [],
   "source": [
    "def shortMarginConvert(value):\n",
    "    if value == 0:\n",
    "        return 0\n",
    "    else:\n",
    "        return 1/(value)*10000\n",
    "\n",
    "    \n",
    "margin_data['margin_short_ratio'] = margin_data['short_margin_ratio'].apply(shortMarginConvert)\n",
    "margin_data"
   ]
  },
  {
   "cell_type": "code",
   "execution_count": null,
   "metadata": {},
   "outputs": [],
   "source": []
  },
  {
   "cell_type": "markdown",
   "metadata": {},
   "source": [
    "# 如何將『高頻資料』與『低頻資料』作合併"
   ]
  },
  {
   "cell_type": "markdown",
   "metadata": {},
   "source": [
    "1. 配合低頻資料產生可以對應的時間欄位"
   ]
  },
  {
   "cell_type": "code",
   "execution_count": null,
   "metadata": {},
   "outputs": [],
   "source": [
    "def dateToDateYearMonth(date_value):\n",
    "    return int(str(date_value)[:6])"
   ]
  },
  {
   "cell_type": "code",
   "execution_count": null,
   "metadata": {},
   "outputs": [],
   "source": [
    "dateToDateYearMonth(20170304)"
   ]
  },
  {
   "cell_type": "code",
   "execution_count": null,
   "metadata": {},
   "outputs": [],
   "source": [
    "price_data['date_year_month'] = price_data['date'].apply(dateToDateYearMonth)"
   ]
  },
  {
   "cell_type": "code",
   "execution_count": null,
   "metadata": {
    "scrolled": true
   },
   "outputs": [],
   "source": [
    "price_data"
   ]
  },
  {
   "cell_type": "markdown",
   "metadata": {},
   "source": [
    "2. 根據對應時間來合併，並保留全部資料"
   ]
  },
  {
   "cell_type": "code",
   "execution_count": null,
   "metadata": {},
   "outputs": [],
   "source": [
    "student_data = pd.DataFrame([\n",
    "    {'student_name': \"John Cena\", 'student_no': 1},\n",
    "    {'student_name': \"Mary\", 'student_no': 2},\n",
    "    {'student_name': \"Bob\", 'student_no': 3},\n",
    "    {'student_name': \"Patrick\", 'student_no': 4},\n",
    "    {'student_name': \"Hank\", 'student_no': 5}]\n",
    ")\n",
    "\n",
    "student_course_data = pd.DataFrame([\n",
    "    {'course_name': \"微積分\", 'student_no': 2},\n",
    "    {'course_name': \"微積分\", 'student_no': 5},\n",
    "    {'course_name': \"時間序列\", 'student_no': 3},\n",
    "    {'course_name': \"時間序列\", 'student_no': 4},\n",
    "    {'course_name': \"時間序列\", 'student_no': 5},\n",
    "    {'course_name': \"程式設計\", 'student_no': 6},\n",
    "])"
   ]
  },
  {
   "cell_type": "markdown",
   "metadata": {},
   "source": [
    "#### 合併的4方法"
   ]
  },
  {
   "cell_type": "markdown",
   "metadata": {},
   "source": [
    "1. left"
   ]
  },
  {
   "cell_type": "code",
   "execution_count": null,
   "metadata": {},
   "outputs": [],
   "source": [
    "student_data.merge(student_course_data, on='student_no', how='left')"
   ]
  },
  {
   "cell_type": "markdown",
   "metadata": {},
   "source": [
    "2. right"
   ]
  },
  {
   "cell_type": "code",
   "execution_count": null,
   "metadata": {},
   "outputs": [],
   "source": [
    "student_data.merge(student_course_data, on='student_no', how='right')"
   ]
  },
  {
   "cell_type": "markdown",
   "metadata": {},
   "source": [
    "3. inner"
   ]
  },
  {
   "cell_type": "code",
   "execution_count": null,
   "metadata": {},
   "outputs": [],
   "source": [
    "student_data.merge(student_course_data, on='student_no', how='inner')"
   ]
  },
  {
   "cell_type": "markdown",
   "metadata": {},
   "source": [
    "4. outer"
   ]
  },
  {
   "cell_type": "code",
   "execution_count": null,
   "metadata": {},
   "outputs": [],
   "source": [
    "student_data.merge(student_course_data, on='student_no', how='outer')"
   ]
  },
  {
   "cell_type": "markdown",
   "metadata": {},
   "source": [
    "### price data merge ifrs data"
   ]
  },
  {
   "cell_type": "code",
   "execution_count": null,
   "metadata": {},
   "outputs": [],
   "source": [
    "merge_data = price_data.merge(ifrs_data, \n",
    "                              on=['code', 'name', 'date_year_month'], \n",
    "                              how='outer')"
   ]
  },
  {
   "cell_type": "code",
   "execution_count": null,
   "metadata": {},
   "outputs": [],
   "source": [
    "merge_data"
   ]
  },
  {
   "cell_type": "code",
   "execution_count": null,
   "metadata": {},
   "outputs": [],
   "source": [
    "## 再根據時間排序一下\n",
    "\n",
    "merge_data = merge_data.sort_values(by=['date_year_month', 'date'])\n",
    "merge_data"
   ]
  },
  {
   "cell_type": "markdown",
   "metadata": {},
   "source": [
    "3. 遺漏值補前一期"
   ]
  },
  {
   "cell_type": "code",
   "execution_count": null,
   "metadata": {},
   "outputs": [],
   "source": [
    "merge_data = merge_data.ffill()\n",
    "merge_data"
   ]
  },
  {
   "cell_type": "markdown",
   "metadata": {},
   "source": [
    "# 把其他資料整合進來"
   ]
  },
  {
   "cell_type": "code",
   "execution_count": null,
   "metadata": {},
   "outputs": [],
   "source": [
    "stock_data =  merge_data.merge(\n",
    "    institution_data, on=['code', 'name', 'date'] ## 法人週轉率\n",
    ").merge(\n",
    "    margin_data, on=['code', 'name', 'date']      ## 資券比\n",
    ")"
   ]
  },
  {
   "cell_type": "code",
   "execution_count": null,
   "metadata": {},
   "outputs": [],
   "source": [
    "stock_data.columns"
   ]
  },
  {
   "cell_type": "code",
   "execution_count": null,
   "metadata": {},
   "outputs": [],
   "source": []
  },
  {
   "cell_type": "code",
   "execution_count": null,
   "metadata": {},
   "outputs": [],
   "source": []
  }
 ],
 "metadata": {
  "kernelspec": {
   "display_name": "Python 3",
   "language": "python",
   "name": "python3"
  },
  "language_info": {
   "codemirror_mode": {
    "name": "ipython",
    "version": 3
   },
   "file_extension": ".py",
   "mimetype": "text/x-python",
   "name": "python",
   "nbconvert_exporter": "python",
   "pygments_lexer": "ipython3",
   "version": "3.7.4"
  }
 },
 "nbformat": 4,
 "nbformat_minor": 2
}
