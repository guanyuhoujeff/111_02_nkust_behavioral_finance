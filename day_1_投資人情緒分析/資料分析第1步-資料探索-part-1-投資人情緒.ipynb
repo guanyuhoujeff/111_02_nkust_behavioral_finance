{
 "cells": [
  {
   "cell_type": "markdown",
   "metadata": {},
   "source": [
    "## 套件"
   ]
  },
  {
   "cell_type": "code",
   "execution_count": 1,
   "metadata": {},
   "outputs": [],
   "source": [
    "import pandas as pd\n",
    "import statsmodels.api as sm"
   ]
  },
  {
   "cell_type": "code",
   "execution_count": 2,
   "metadata": {},
   "outputs": [
    {
     "name": "stderr",
     "output_type": "stream",
     "text": [
      "/Users/gy/opt/anaconda3/lib/python3.7/site-packages/IPython/core/interactiveshell.py:3326: DtypeWarning: Columns (11,12) have mixed types.Specify dtype option on import or set low_memory=False.\n",
      "  exec(code_obj, self.user_global_ns, self.user_ns)\n"
     ]
    }
   ],
   "source": [
    "# price_data = pd.read_csv('../data/stock_100_price.txt',  encoding='cp950')\n",
    "# earn_data = pd.read_csv('../data/stock_100_earn.txt',  encoding='cp950')\n",
    "# institution_data = pd.read_csv('../data/stock_100_institution.txt',  encoding='cp950')\n",
    "# bs_data = pd.read_csv('../data/stock_100_bs.txt',  encoding='cp950')\n",
    "\n",
    "price_data = pd.read_csv('../data/stock_price.txt',  encoding='cp950')\n",
    "earn_data = pd.read_csv('../data/stock_earn.txt',  encoding='cp950')\n",
    "institution_data = pd.read_csv('../data/stock_institution.txt',  encoding='cp950')\n",
    "bs_data = pd.read_csv('../data/stock_bs.txt',  encoding='cp950')"
   ]
  },
  {
   "cell_type": "code",
   "execution_count": 3,
   "metadata": {},
   "outputs": [
    {
     "data": {
      "text/html": [
       "<div>\n",
       "<style scoped>\n",
       "    .dataframe tbody tr th:only-of-type {\n",
       "        vertical-align: middle;\n",
       "    }\n",
       "\n",
       "    .dataframe tbody tr th {\n",
       "        vertical-align: top;\n",
       "    }\n",
       "\n",
       "    .dataframe thead th {\n",
       "        text-align: right;\n",
       "    }\n",
       "</style>\n",
       "<table border=\"1\" class=\"dataframe\">\n",
       "  <thead>\n",
       "    <tr style=\"text-align: right;\">\n",
       "      <th></th>\n",
       "      <th>證券代碼</th>\n",
       "      <th>簡稱</th>\n",
       "      <th>TSE新產業_名稱</th>\n",
       "      <th>TEJ產業_名稱</th>\n",
       "      <th>年月日</th>\n",
       "      <th>收盤價(元)</th>\n",
       "      <th>成交量(千股)</th>\n",
       "      <th>成交值(千元)</th>\n",
       "      <th>報酬率％</th>\n",
       "      <th>週轉率％</th>\n",
       "      <th>市值(百萬元)</th>\n",
       "      <th>股價淨值比-TSE</th>\n",
       "      <th>股價淨值比-TEJ</th>\n",
       "    </tr>\n",
       "  </thead>\n",
       "  <tbody>\n",
       "    <tr>\n",
       "      <th>0</th>\n",
       "      <td>1101</td>\n",
       "      <td>台泥</td>\n",
       "      <td>水泥工業</td>\n",
       "      <td>水泥製造</td>\n",
       "      <td>20170103</td>\n",
       "      <td>35.15</td>\n",
       "      <td>2890</td>\n",
       "      <td>101450</td>\n",
       "      <td>0.0000</td>\n",
       "      <td>0.0783</td>\n",
       "      <td>129779</td>\n",
       "      <td>1.2300</td>\n",
       "      <td>1.23</td>\n",
       "    </tr>\n",
       "    <tr>\n",
       "      <th>1</th>\n",
       "      <td>1102</td>\n",
       "      <td>亞泥</td>\n",
       "      <td>水泥工業</td>\n",
       "      <td>水泥製造</td>\n",
       "      <td>20170103</td>\n",
       "      <td>26.50</td>\n",
       "      <td>1271</td>\n",
       "      <td>33550</td>\n",
       "      <td>0.5693</td>\n",
       "      <td>0.0378</td>\n",
       "      <td>89078</td>\n",
       "      <td>0.7300</td>\n",
       "      <td>0.73</td>\n",
       "    </tr>\n",
       "    <tr>\n",
       "      <th>2</th>\n",
       "      <td>1103</td>\n",
       "      <td>嘉泥</td>\n",
       "      <td>水泥工業</td>\n",
       "      <td>水泥製造</td>\n",
       "      <td>20170103</td>\n",
       "      <td>8.71</td>\n",
       "      <td>278</td>\n",
       "      <td>2411</td>\n",
       "      <td>-0.2291</td>\n",
       "      <td>0.0359</td>\n",
       "      <td>6748</td>\n",
       "      <td>0.4000</td>\n",
       "      <td>0.48</td>\n",
       "    </tr>\n",
       "    <tr>\n",
       "      <th>3</th>\n",
       "      <td>1104</td>\n",
       "      <td>環泥</td>\n",
       "      <td>水泥工業</td>\n",
       "      <td>水泥製造</td>\n",
       "      <td>20170103</td>\n",
       "      <td>24.60</td>\n",
       "      <td>150</td>\n",
       "      <td>3705</td>\n",
       "      <td>-0.2028</td>\n",
       "      <td>0.0236</td>\n",
       "      <td>15610</td>\n",
       "      <td>0.9700</td>\n",
       "      <td>0.97</td>\n",
       "    </tr>\n",
       "    <tr>\n",
       "      <th>4</th>\n",
       "      <td>1108</td>\n",
       "      <td>幸福</td>\n",
       "      <td>水泥工業</td>\n",
       "      <td>水泥製造</td>\n",
       "      <td>20170103</td>\n",
       "      <td>9.15</td>\n",
       "      <td>20</td>\n",
       "      <td>182</td>\n",
       "      <td>0.3289</td>\n",
       "      <td>0.0049</td>\n",
       "      <td>3703</td>\n",
       "      <td>0.7800</td>\n",
       "      <td>0.78</td>\n",
       "    </tr>\n",
       "  </tbody>\n",
       "</table>\n",
       "</div>"
      ],
      "text/plain": [
       "   證券代碼           簡稱 TSE新產業_名稱 TEJ產業_名稱       年月日  收盤價(元)  成交量(千股)  成交值(千元)  \\\n",
       "0  1101  台泥             水泥工業     水泥製造    20170103   35.15     2890   101450   \n",
       "1  1102  亞泥             水泥工業     水泥製造    20170103   26.50     1271    33550   \n",
       "2  1103  嘉泥             水泥工業     水泥製造    20170103    8.71      278     2411   \n",
       "3  1104  環泥             水泥工業     水泥製造    20170103   24.60      150     3705   \n",
       "4  1108  幸福             水泥工業     水泥製造    20170103    9.15       20      182   \n",
       "\n",
       "     報酬率％    週轉率％  市值(百萬元)    股價淨值比-TSE 股價淨值比-TEJ  \n",
       "0  0.0000  0.0783   129779       1.2300      1.23  \n",
       "1  0.5693  0.0378    89078       0.7300      0.73  \n",
       "2 -0.2291  0.0359     6748       0.4000      0.48  \n",
       "3 -0.2028  0.0236    15610       0.9700      0.97  \n",
       "4  0.3289  0.0049     3703       0.7800      0.78  "
      ]
     },
     "execution_count": 3,
     "metadata": {},
     "output_type": "execute_result"
    }
   ],
   "source": [
    "# 查看前五筆資料\n",
    "price_data.head()"
   ]
  },
  {
   "cell_type": "code",
   "execution_count": 4,
   "metadata": {},
   "outputs": [
    {
     "data": {
      "text/html": [
       "<div>\n",
       "<style scoped>\n",
       "    .dataframe tbody tr th:only-of-type {\n",
       "        vertical-align: middle;\n",
       "    }\n",
       "\n",
       "    .dataframe tbody tr th {\n",
       "        vertical-align: top;\n",
       "    }\n",
       "\n",
       "    .dataframe thead th {\n",
       "        text-align: right;\n",
       "    }\n",
       "</style>\n",
       "<table border=\"1\" class=\"dataframe\">\n",
       "  <thead>\n",
       "    <tr style=\"text-align: right;\">\n",
       "      <th></th>\n",
       "      <th>證券代碼</th>\n",
       "      <th>簡稱</th>\n",
       "      <th>TSE新產業_名稱</th>\n",
       "      <th>TEJ產業_名稱</th>\n",
       "      <th>年月日</th>\n",
       "      <th>收盤價(元)</th>\n",
       "      <th>成交量(千股)</th>\n",
       "      <th>成交值(千元)</th>\n",
       "      <th>報酬率％</th>\n",
       "      <th>週轉率％</th>\n",
       "      <th>市值(百萬元)</th>\n",
       "      <th>股價淨值比-TSE</th>\n",
       "      <th>股價淨值比-TEJ</th>\n",
       "    </tr>\n",
       "  </thead>\n",
       "  <tbody>\n",
       "    <tr>\n",
       "      <th>2414085</th>\n",
       "      <td>9955</td>\n",
       "      <td>佳龍</td>\n",
       "      <td>其他</td>\n",
       "      <td>資源回收</td>\n",
       "      <td>20220225</td>\n",
       "      <td>26.50</td>\n",
       "      <td>6713</td>\n",
       "      <td>185048</td>\n",
       "      <td>-8.7780</td>\n",
       "      <td>6.5043</td>\n",
       "      <td>2735</td>\n",
       "      <td>1.8000</td>\n",
       "      <td>1.7970</td>\n",
       "    </tr>\n",
       "    <tr>\n",
       "      <th>2414086</th>\n",
       "      <td>9957</td>\n",
       "      <td>燁聯</td>\n",
       "      <td>鋼鐵工業</td>\n",
       "      <td>金屬基本</td>\n",
       "      <td>20220225</td>\n",
       "      <td>13.40</td>\n",
       "      <td>4190</td>\n",
       "      <td>55859</td>\n",
       "      <td>2.6820</td>\n",
       "      <td>0.1599</td>\n",
       "      <td>35114</td>\n",
       "      <td>-</td>\n",
       "      <td>2.2914</td>\n",
       "    </tr>\n",
       "    <tr>\n",
       "      <th>2414087</th>\n",
       "      <td>9958</td>\n",
       "      <td>世紀鋼</td>\n",
       "      <td>鋼鐵工業</td>\n",
       "      <td>金屬基本</td>\n",
       "      <td>20220225</td>\n",
       "      <td>108.50</td>\n",
       "      <td>1053</td>\n",
       "      <td>115025</td>\n",
       "      <td>0.0000</td>\n",
       "      <td>0.4545</td>\n",
       "      <td>25136</td>\n",
       "      <td>3.4100</td>\n",
       "      <td>3.4245</td>\n",
       "    </tr>\n",
       "    <tr>\n",
       "      <th>2414088</th>\n",
       "      <td>9960</td>\n",
       "      <td>邁達康</td>\n",
       "      <td>貿易百貨</td>\n",
       "      <td>百貨批發</td>\n",
       "      <td>20220225</td>\n",
       "      <td>26.75</td>\n",
       "      <td>21</td>\n",
       "      <td>555</td>\n",
       "      <td>0.1873</td>\n",
       "      <td>0.0625</td>\n",
       "      <td>899</td>\n",
       "      <td>1.7800</td>\n",
       "      <td>1.7820</td>\n",
       "    </tr>\n",
       "    <tr>\n",
       "      <th>2414089</th>\n",
       "      <td>9962</td>\n",
       "      <td>有益</td>\n",
       "      <td>鋼鐵工業</td>\n",
       "      <td>金屬基本</td>\n",
       "      <td>20220225</td>\n",
       "      <td>17.15</td>\n",
       "      <td>1156</td>\n",
       "      <td>19753</td>\n",
       "      <td>3.3133</td>\n",
       "      <td>1.2813</td>\n",
       "      <td>1547</td>\n",
       "      <td>1.5000</td>\n",
       "      <td>1.5036</td>\n",
       "    </tr>\n",
       "  </tbody>\n",
       "</table>\n",
       "</div>"
      ],
      "text/plain": [
       "         證券代碼           簡稱 TSE新產業_名稱 TEJ產業_名稱       年月日  收盤價(元)  成交量(千股)  \\\n",
       "2414085  9955  佳龍           其他         資源回收    20220225   26.50     6713   \n",
       "2414086  9957  燁聯             鋼鐵工業     金屬基本    20220225   13.40     4190   \n",
       "2414087  9958   世紀鋼           鋼鐵工業     金屬基本    20220225  108.50     1053   \n",
       "2414088  9960   邁達康           貿易百貨     百貨批發    20220225   26.75       21   \n",
       "2414089  9962  有益             鋼鐵工業     金屬基本    20220225   17.15     1156   \n",
       "\n",
       "         成交值(千元)    報酬率％    週轉率％  市值(百萬元)    股價淨值比-TSE    股價淨值比-TEJ  \n",
       "2414085   185048 -8.7780  6.5043     2735       1.8000       1.7970  \n",
       "2414086    55859  2.6820  0.1599    35114            -       2.2914  \n",
       "2414087   115025  0.0000  0.4545    25136       3.4100       3.4245  \n",
       "2414088      555  0.1873  0.0625      899       1.7800       1.7820  \n",
       "2414089    19753  3.3133  1.2813     1547       1.5000       1.5036  "
      ]
     },
     "execution_count": 4,
     "metadata": {},
     "output_type": "execute_result"
    }
   ],
   "source": [
    "# 查看後五筆資料\n",
    "price_data.tail()"
   ]
  },
  {
   "cell_type": "code",
   "execution_count": 5,
   "metadata": {},
   "outputs": [],
   "source": [
    "rename_column_maplist = {\n",
    "    '證券代碼' : \"code\", \n",
    "    '公司': 'code',\n",
    "    '證券名稱': 'code',\n",
    "    '公司代碼': 'code',\n",
    "    \n",
    "    '簡稱' : 'name', \n",
    "    'TSE新產業_名稱' : 'new_industry', \n",
    "    'TEJ產業_名稱' : 'industry', \n",
    "    '年月日'  : \"date\", \n",
    "    '年/月': 'date_year_month',\n",
    "    '收盤價(元)' : 'close', \n",
    "    '成交量(千股)' : 'volume', \n",
    "    '成交值(千元)' : 'amount',\n",
    "    '報酬率％' : 'return', \n",
    "    '週轉率％' : \"turn_over\", \n",
    "    '市值(百萬元)' : \"size\", \n",
    "    '股價淨值比-TSE': \"PB_TSE\", \n",
    "    '股價淨值比-TEJ' : 'PB_TEJ',\n",
    "    \n",
    "    ### earn\n",
    "    'ROA－綜合損益': 'ROA',\n",
    "    '營收成長率': 'YOY',\n",
    "    '總資產成長率': \"TAR\",\n",
    "    \n",
    "    ### in          \n",
    "    '外資週轉率%' : 'foreign_turnover_rate',\n",
    "    '投信週轉率%' : 'trust_turnover_rate',\n",
    "    '自營商週轉率%' : 'broker_turnover_rate',\n",
    "    \n",
    "    ## bs\n",
    "    '券資比': 'short_margin_ratio',\n",
    "    '融資餘額(張)' : 'margin_balance',\n",
    "    '融券餘額(張)' : 'short_balance',\n",
    "}"
   ]
  },
  {
   "cell_type": "code",
   "execution_count": 6,
   "metadata": {},
   "outputs": [
    {
     "name": "stdout",
     "output_type": "stream",
     "text": [
      "欄位改名前： Index(['證券代碼', '簡稱', 'TSE新產業_名稱', 'TEJ產業_名稱', '年月日', '收盤價(元)', '成交量(千股)',\n",
      "       '成交值(千元)', '報酬率％', '週轉率％', '市值(百萬元)', '股價淨值比-TSE', '股價淨值比-TEJ'],\n",
      "      dtype='object')\n",
      "欄位改名後： Index(['code', 'name', 'new_industry', 'industry', 'date', 'close', 'volume',\n",
      "       'amount', 'return', 'turn_over', 'size', 'PB_TSE', 'PB_TEJ'],\n",
      "      dtype='object')\n"
     ]
    }
   ],
   "source": [
    "print('欄位改名前：', price_data.columns)\n",
    "price_data.rename(columns=rename_column_maplist, inplace=True)\n",
    "print('欄位改名後：', price_data.columns)"
   ]
  },
  {
   "cell_type": "code",
   "execution_count": 7,
   "metadata": {},
   "outputs": [
    {
     "name": "stdout",
     "output_type": "stream",
     "text": [
      "欄位改名前： Index(['公司', '簡稱', '年/月', '營收成長率', '總資產成長率'], dtype='object')\n",
      "欄位改名後： Index(['code', 'name', 'date_year_month', 'YOY', 'TAR'], dtype='object')\n"
     ]
    }
   ],
   "source": [
    "# https://s61160230.pixnet.net/blog/post/218812467\n",
    "\n",
    "print('欄位改名前：', earn_data.columns)\n",
    "earn_data.rename(columns=rename_column_maplist, inplace=True)\n",
    "print('欄位改名後：', earn_data.columns)"
   ]
  },
  {
   "cell_type": "code",
   "execution_count": 8,
   "metadata": {},
   "outputs": [
    {
     "name": "stdout",
     "output_type": "stream",
     "text": [
      "欄位改名前： Index(['證券名稱', '簡稱', '年月日', '外資週轉率%', '投信週轉率%', '自營商週轉率%'], dtype='object')\n",
      "欄位改名後： Index(['code', 'name', 'date', 'foreign_turnover_rate', 'trust_turnover_rate',\n",
      "       'broker_turnover_rate'],\n",
      "      dtype='object')\n"
     ]
    }
   ],
   "source": [
    "print('欄位改名前：', institution_data.columns)\n",
    "institution_data.rename(columns=rename_column_maplist, inplace=True)\n",
    "print('欄位改名後：', institution_data.columns)"
   ]
  },
  {
   "cell_type": "code",
   "execution_count": 9,
   "metadata": {},
   "outputs": [
    {
     "name": "stdout",
     "output_type": "stream",
     "text": [
      "欄位改名前： Index(['公司代碼', '簡稱', '年月日', '券資比'], dtype='object')\n",
      "欄位改名後： Index(['code', 'name', 'date', 'short_margin_ratio'], dtype='object')\n"
     ]
    }
   ],
   "source": [
    "print('欄位改名前：', bs_data.columns)\n",
    "bs_data.rename(columns=rename_column_maplist, inplace=True)\n",
    "print('欄位改名後：', bs_data.columns)"
   ]
  },
  {
   "cell_type": "code",
   "execution_count": 10,
   "metadata": {},
   "outputs": [
    {
     "name": "stdout",
     "output_type": "stream",
     "text": [
      "price : \n",
      "<class 'pandas.core.frame.DataFrame'>\n",
      "RangeIndex: 2414090 entries, 0 to 2414089\n",
      "Data columns (total 13 columns):\n",
      " #   Column        Dtype  \n",
      "---  ------        -----  \n",
      " 0   code          int64  \n",
      " 1   name          object \n",
      " 2   new_industry  object \n",
      " 3   industry      object \n",
      " 4   date          int64  \n",
      " 5   close         float64\n",
      " 6   volume        int64  \n",
      " 7   amount        int64  \n",
      " 8   return        float64\n",
      " 9   turn_over     float64\n",
      " 10  size          int64  \n",
      " 11  PB_TSE        object \n",
      " 12  PB_TEJ        object \n",
      "dtypes: float64(3), int64(5), object(5)\n",
      "memory usage: 239.4+ MB\n",
      "\n",
      "\n",
      "earn : \n",
      "<class 'pandas.core.frame.DataFrame'>\n",
      "RangeIndex: 40210 entries, 0 to 40209\n",
      "Data columns (total 5 columns):\n",
      " #   Column           Non-Null Count  Dtype \n",
      "---  ------           --------------  ----- \n",
      " 0   code             40210 non-null  object\n",
      " 1   name             40210 non-null  object\n",
      " 2   date_year_month  40210 non-null  int64 \n",
      " 3   YOY              40210 non-null  object\n",
      " 4   TAR              40210 non-null  object\n",
      "dtypes: int64(1), object(4)\n",
      "memory usage: 1.5+ MB\n",
      "\n",
      "\n",
      "institution : \n",
      "<class 'pandas.core.frame.DataFrame'>\n",
      "RangeIndex: 2459874 entries, 0 to 2459873\n",
      "Data columns (total 6 columns):\n",
      " #   Column                 Dtype \n",
      "---  ------                 ----- \n",
      " 0   code                   int64 \n",
      " 1   name                   object\n",
      " 2   date                   int64 \n",
      " 3   foreign_turnover_rate  object\n",
      " 4   trust_turnover_rate    object\n",
      " 5   broker_turnover_rate   object\n",
      "dtypes: int64(2), object(4)\n",
      "memory usage: 112.6+ MB\n",
      "\n",
      "\n",
      "bs : \n",
      "<class 'pandas.core.frame.DataFrame'>\n",
      "RangeIndex: 1994289 entries, 0 to 1994288\n",
      "Data columns (total 4 columns):\n",
      " #   Column              Dtype \n",
      "---  ------              ----- \n",
      " 0   code                int64 \n",
      " 1   name                object\n",
      " 2   date                int64 \n",
      " 3   short_margin_ratio  object\n",
      "dtypes: int64(2), object(2)\n",
      "memory usage: 60.9+ MB\n"
     ]
    }
   ],
   "source": [
    "print('price : ')\n",
    "price_data.info()\n",
    "\n",
    "print()\n",
    "print()\n",
    "\n",
    "print('earn : ')\n",
    "earn_data.info()\n",
    "\n",
    "print()\n",
    "print()\n",
    "\n",
    "print('institution : ')\n",
    "institution_data.info()\n",
    "\n",
    "print()\n",
    "print()\n",
    "\n",
    "print('bs : ')\n",
    "bs_data.info()"
   ]
  },
  {
   "cell_type": "markdown",
   "metadata": {},
   "source": [
    "# 大表"
   ]
  },
  {
   "cell_type": "code",
   "execution_count": null,
   "metadata": {},
   "outputs": [],
   "source": []
  },
  {
   "cell_type": "code",
   "execution_count": 11,
   "metadata": {},
   "outputs": [],
   "source": [
    "price_data['code'] = price_data['code'].apply(lambda x: str(x).strip())\n",
    "institution_data['code'] = institution_data['code'].apply(lambda x: str(x).strip())\n",
    "bs_data['code'] = bs_data['code'].apply(lambda x: str(x).strip())\n",
    "earn_data['code'] = earn_data['code'].apply(lambda x: str(x).strip())\n",
    "\n",
    "\n",
    "price_data['name'] = price_data['name'].apply(lambda x: str(x).strip())\n",
    "institution_data['name'] = institution_data['name'].apply(lambda x: str(x).strip())\n",
    "bs_data['name'] = bs_data['name'].apply(lambda x: str(x).strip())\n",
    "earn_data['name'] = earn_data['name'].apply(lambda x: str(x).strip())\n",
    "\n",
    "price_data['new_industry'] = price_data['new_industry'].apply(lambda x: str(x).strip())\n",
    "price_data['industry'] = price_data['industry'].apply(lambda x: str(x).strip())"
   ]
  },
  {
   "cell_type": "code",
   "execution_count": null,
   "metadata": {},
   "outputs": [],
   "source": []
  },
  {
   "cell_type": "code",
   "execution_count": 12,
   "metadata": {},
   "outputs": [],
   "source": [
    "merge_data = price_data.merge(institution_data, on=['code', 'name', 'date'])\\\n",
    ".merge(bs_data, on=['code', 'name', 'date'])\n",
    "merge_data['date_year_month']= merge_data['date'].apply(lambda the_date: int(str(the_date)[:6]))\n",
    "\n",
    "merge_data['code'] = merge_data['code'].apply(lambda x: str(x).strip())\n",
    "earn_data['code'] = earn_data['code'].apply(lambda x: str(x).strip())\n",
    "\n",
    "all_data = merge_data.merge(\n",
    "    earn_data, on=['code', 'name', 'date_year_month'], how='outer').sort_values(by='date_year_month')"
   ]
  },
  {
   "cell_type": "code",
   "execution_count": null,
   "metadata": {},
   "outputs": [],
   "source": [
    "# all_data = all_data.query('year >= 2016 & month >= 1')"
   ]
  },
  {
   "cell_type": "code",
   "execution_count": 13,
   "metadata": {},
   "outputs": [
    {
     "data": {
      "text/plain": [
       "array(['1464', '6638', '6639', ..., '3713', '6829', '3714'], dtype=object)"
      ]
     },
     "execution_count": 13,
     "metadata": {},
     "output_type": "execute_result"
    }
   ],
   "source": [
    "all_data['code'].drop_duplicates().values"
   ]
  },
  {
   "cell_type": "code",
   "execution_count": null,
   "metadata": {},
   "outputs": [],
   "source": []
  },
  {
   "cell_type": "markdown",
   "metadata": {},
   "source": [
    "# 迴圈測試"
   ]
  },
  {
   "cell_type": "code",
   "execution_count": 14,
   "metadata": {},
   "outputs": [],
   "source": [
    "from tqdm import tqdm\n",
    "\n",
    "code_list = all_data['code'].drop_duplicates().values"
   ]
  },
  {
   "cell_type": "code",
   "execution_count": 15,
   "metadata": {},
   "outputs": [],
   "source": [
    "x_variable_columns = [\n",
    "        'return', \n",
    "        'size', \n",
    "        'PB_TSE',\n",
    "        'YOY', \n",
    "        'TAR',\n",
    "        'turn_over', \n",
    "        'margin_short_ratio', \n",
    "        'intitution_turnover_rate',\n",
    "    ]"
   ]
  },
  {
   "cell_type": "code",
   "execution_count": 16,
   "metadata": {
    "scrolled": true
   },
   "outputs": [
    {
     "name": "stderr",
     "output_type": "stream",
     "text": [
      "  0%|          | 0/2370 [00:00<?, ?it/s]/Users/gy/opt/anaconda3/lib/python3.7/site-packages/ipykernel_launcher.py:33: FutureWarning: Dropping of nuisance columns in DataFrame reductions (with 'numeric_only=None') is deprecated; in a future version this will raise TypeError.  Select only valid columns before calling the reduction.\n",
      "/Users/gy/opt/anaconda3/lib/python3.7/site-packages/statsmodels/tsa/tsatools.py:130: FutureWarning: In a future version of pandas all arguments of concat except for the argument 'objs' will be keyword-only\n",
      "  x = pd.concat(x[::order], 1)\n",
      "100%|██████████| 2370/2370 [03:20<00:00, 11.81it/s]\n"
     ]
    }
   ],
   "source": [
    "error_list = []\n",
    "res_list = []\n",
    "empty_list = []\n",
    "\n",
    "for code in tqdm(code_list):\n",
    "    stock_data = all_data.query('code == @code')\n",
    "    \n",
    "    stock_data = stock_data.ffill()\n",
    "    stock_data['return_t1'] = stock_data['return'].shift(-1)\n",
    "    \n",
    "    stock_data = stock_data.dropna()\n",
    "    \n",
    "    if stock_data.empty:\n",
    "        empty_list.append(code)\n",
    "        continue\n",
    "    \n",
    "    try:\n",
    "        \n",
    "        stock_data['PB_TSE'] = stock_data['PB_TSE'].astype(float)\n",
    "        stock_data['YOY'] = stock_data['YOY'].astype(float)\n",
    "        stock_data['TAR'] = stock_data['TAR'].astype(float)\n",
    "        \n",
    "        ## 資券比\n",
    "        stock_data['short_margin_ratio'] = stock_data['short_margin_ratio'].astype(float)\n",
    "        def convert(x):\n",
    "            if x == 0 :\n",
    "                return 0\n",
    "            else:\n",
    "                return 1/(x)*10000\n",
    "        stock_data['margin_short_ratio'] = stock_data['short_margin_ratio'].apply(convert)\n",
    "        \n",
    "        ## 合計週轉率\n",
    "        stock_data['intitution_turnover_rate']  = stock_data[['trust_turnover_rate', 'broker_turnover_rate', 'short_margin_ratio']].sum(1)\n",
    "\n",
    "    except:\n",
    "        #print(\"有問題：\", code)\n",
    "        error_list.append(code)\n",
    "        continue\n",
    "\n",
    "    y = stock_data['return_t1'].values.reshape((-1, 1))\n",
    "    x = stock_data[x_variable_columns]\n",
    "\n",
    "    model = sm.OLS(y,  sm.add_constant(x,  prepend=False))\n",
    "    res = model.fit()       # Fit model\n",
    "    #print(res.summary())   # Summarize model\n",
    "    res_list.append({'code': code, 'res': res, 'data-shape': stock_data.shape})"
   ]
  },
  {
   "cell_type": "code",
   "execution_count": null,
   "metadata": {},
   "outputs": [],
   "source": []
  },
  {
   "cell_type": "markdown",
   "metadata": {},
   "source": [
    "# 全變數"
   ]
  },
  {
   "cell_type": "code",
   "execution_count": 17,
   "metadata": {},
   "outputs": [
    {
     "name": "stderr",
     "output_type": "stream",
     "text": [
      " 14%|█▎        | 166/1210 [00:12<01:27, 11.89it/s]/Users/gy/opt/anaconda3/lib/python3.7/site-packages/statsmodels/base/model.py:1362: RuntimeWarning: invalid value encountered in true_divide\n",
      "  return self.params / self.bse\n",
      "100%|██████████| 1210/1210 [01:36<00:00, 12.56it/s]\n"
     ]
    }
   ],
   "source": [
    "aviable_t_list = []\n",
    "for res in tqdm(res_list):\n",
    "    aviable_t = (res['res'].pvalues < 0.1).sum()\n",
    "    if aviable_t > 0:\n",
    "        code = res['code']\n",
    "        stock_data = all_data.query('code == @code')\n",
    "        \n",
    "        stock_info = stock_data[[\"code\",\"name\",\"new_industry\",\"industry\"]].dropna().iloc[-1, :4]\n",
    "        mean_size = stock_data['size'].mean()\n",
    "        #print(\" | \".join(stock_data.iloc[-1, :4].values), aviable_t)\n",
    "        aviable_t_list.append({\n",
    "            'code': code,\n",
    "            'name': stock_info['name'],\n",
    "            'mean_size': mean_size,\n",
    "            'new_industry': stock_info['new_industry'],\n",
    "            'industry': stock_info['industry'],\n",
    "            'aviable_t': aviable_t\n",
    "        })\n",
    "aviable_t_table = pd.DataFrame(aviable_t_list)"
   ]
  },
  {
   "cell_type": "code",
   "execution_count": 18,
   "metadata": {},
   "outputs": [
    {
     "data": {
      "text/html": [
       "<div>\n",
       "<style scoped>\n",
       "    .dataframe tbody tr th:only-of-type {\n",
       "        vertical-align: middle;\n",
       "    }\n",
       "\n",
       "    .dataframe tbody tr th {\n",
       "        vertical-align: top;\n",
       "    }\n",
       "\n",
       "    .dataframe thead th {\n",
       "        text-align: right;\n",
       "    }\n",
       "</style>\n",
       "<table border=\"1\" class=\"dataframe\">\n",
       "  <thead>\n",
       "    <tr style=\"text-align: right;\">\n",
       "      <th></th>\n",
       "      <th>code</th>\n",
       "      <th>name</th>\n",
       "      <th>mean_size</th>\n",
       "      <th>new_industry</th>\n",
       "      <th>industry</th>\n",
       "      <th>aviable_t</th>\n",
       "    </tr>\n",
       "  </thead>\n",
       "  <tbody>\n",
       "    <tr>\n",
       "      <th>472</th>\n",
       "      <td>1236</td>\n",
       "      <td>宏亞</td>\n",
       "      <td>1682.827367</td>\n",
       "      <td>食品工業</td>\n",
       "      <td>其他食品</td>\n",
       "      <td>8</td>\n",
       "    </tr>\n",
       "    <tr>\n",
       "      <th>1089</th>\n",
       "      <td>3707</td>\n",
       "      <td>漢磊</td>\n",
       "      <td>11664.426412</td>\n",
       "      <td>半導體</td>\n",
       "      <td>半導體</td>\n",
       "      <td>7</td>\n",
       "    </tr>\n",
       "    <tr>\n",
       "      <th>805</th>\n",
       "      <td>5013</td>\n",
       "      <td>強新</td>\n",
       "      <td>3861.431981</td>\n",
       "      <td>鋼鐵工業</td>\n",
       "      <td>金屬基本</td>\n",
       "      <td>7</td>\n",
       "    </tr>\n",
       "    <tr>\n",
       "      <th>748</th>\n",
       "      <td>2615</td>\n",
       "      <td>萬海</td>\n",
       "      <td>111267.579157</td>\n",
       "      <td>航運業</td>\n",
       "      <td>海運</td>\n",
       "      <td>6</td>\n",
       "    </tr>\n",
       "    <tr>\n",
       "      <th>425</th>\n",
       "      <td>1336</td>\n",
       "      <td>台翰</td>\n",
       "      <td>1375.308671</td>\n",
       "      <td>電子零組件</td>\n",
       "      <td>電子零組件</td>\n",
       "      <td>6</td>\n",
       "    </tr>\n",
       "    <tr>\n",
       "      <th>427</th>\n",
       "      <td>1325</td>\n",
       "      <td>恒大</td>\n",
       "      <td>3958.722355</td>\n",
       "      <td>塑膠工業</td>\n",
       "      <td>不織布</td>\n",
       "      <td>6</td>\n",
       "    </tr>\n",
       "    <tr>\n",
       "      <th>635</th>\n",
       "      <td>2459</td>\n",
       "      <td>敦吉</td>\n",
       "      <td>4595.613365</td>\n",
       "      <td>其他電子業</td>\n",
       "      <td>資訊通路</td>\n",
       "      <td>6</td>\n",
       "    </tr>\n",
       "    <tr>\n",
       "      <th>636</th>\n",
       "      <td>2458</td>\n",
       "      <td>義隆</td>\n",
       "      <td>31428.662670</td>\n",
       "      <td>半導體</td>\n",
       "      <td>半導體</td>\n",
       "      <td>6</td>\n",
       "    </tr>\n",
       "    <tr>\n",
       "      <th>1031</th>\n",
       "      <td>3545</td>\n",
       "      <td>敦泰</td>\n",
       "      <td>15165.817820</td>\n",
       "      <td>半導體</td>\n",
       "      <td>半導體</td>\n",
       "      <td>6</td>\n",
       "    </tr>\n",
       "    <tr>\n",
       "      <th>684</th>\n",
       "      <td>2376</td>\n",
       "      <td>技嘉</td>\n",
       "      <td>42236.934765</td>\n",
       "      <td>電腦及週邊</td>\n",
       "      <td>主機板</td>\n",
       "      <td>6</td>\n",
       "    </tr>\n",
       "    <tr>\n",
       "      <th>852</th>\n",
       "      <td>6114</td>\n",
       "      <td>久威</td>\n",
       "      <td>1636.715990</td>\n",
       "      <td>電子零組件</td>\n",
       "      <td>主機板</td>\n",
       "      <td>6</td>\n",
       "    </tr>\n",
       "    <tr>\n",
       "      <th>114</th>\n",
       "      <td>3016</td>\n",
       "      <td>嘉晶</td>\n",
       "      <td>15383.529037</td>\n",
       "      <td>半導體</td>\n",
       "      <td>半導體</td>\n",
       "      <td>6</td>\n",
       "    </tr>\n",
       "    <tr>\n",
       "      <th>255</th>\n",
       "      <td>2856</td>\n",
       "      <td>元富證</td>\n",
       "      <td>14700.476190</td>\n",
       "      <td>金融業</td>\n",
       "      <td>證券</td>\n",
       "      <td>6</td>\n",
       "    </tr>\n",
       "    <tr>\n",
       "      <th>945</th>\n",
       "      <td>4736</td>\n",
       "      <td>泰博</td>\n",
       "      <td>13422.381862</td>\n",
       "      <td>生技醫療</td>\n",
       "      <td>醫療耗材</td>\n",
       "      <td>6</td>\n",
       "    </tr>\n",
       "    <tr>\n",
       "      <th>764</th>\n",
       "      <td>2371</td>\n",
       "      <td>大同</td>\n",
       "      <td>53752.727128</td>\n",
       "      <td>電機機械</td>\n",
       "      <td>電機製品</td>\n",
       "      <td>6</td>\n",
       "    </tr>\n",
       "    <tr>\n",
       "      <th>168</th>\n",
       "      <td>3209</td>\n",
       "      <td>全科</td>\n",
       "      <td>3854.661893</td>\n",
       "      <td>電子通路業</td>\n",
       "      <td>資訊通路</td>\n",
       "      <td>6</td>\n",
       "    </tr>\n",
       "    <tr>\n",
       "      <th>742</th>\n",
       "      <td>2499</td>\n",
       "      <td>東貝</td>\n",
       "      <td>4056.377049</td>\n",
       "      <td>光電業</td>\n",
       "      <td>光電/ IO</td>\n",
       "      <td>6</td>\n",
       "    </tr>\n",
       "    <tr>\n",
       "      <th>179</th>\n",
       "      <td>6283</td>\n",
       "      <td>淳安</td>\n",
       "      <td>5821.917263</td>\n",
       "      <td>其他電子業</td>\n",
       "      <td>光電/ IO</td>\n",
       "      <td>6</td>\n",
       "    </tr>\n",
       "    <tr>\n",
       "      <th>707</th>\n",
       "      <td>2495</td>\n",
       "      <td>普安</td>\n",
       "      <td>3888.739857</td>\n",
       "      <td>其他電子業</td>\n",
       "      <td>光電/ IO</td>\n",
       "      <td>5</td>\n",
       "    </tr>\n",
       "    <tr>\n",
       "      <th>743</th>\n",
       "      <td>2498</td>\n",
       "      <td>宏達電</td>\n",
       "      <td>39312.501193</td>\n",
       "      <td>通信網路業</td>\n",
       "      <td>通訊設備</td>\n",
       "      <td>5</td>\n",
       "    </tr>\n",
       "  </tbody>\n",
       "</table>\n",
       "</div>"
      ],
      "text/plain": [
       "      code name      mean_size new_industry industry  aviable_t\n",
       "472   1236   宏亞    1682.827367         食品工業     其他食品          8\n",
       "1089  3707   漢磊   11664.426412          半導體      半導體          7\n",
       "805   5013   強新    3861.431981         鋼鐵工業     金屬基本          7\n",
       "748   2615   萬海  111267.579157          航運業       海運          6\n",
       "425   1336   台翰    1375.308671        電子零組件    電子零組件          6\n",
       "427   1325   恒大    3958.722355         塑膠工業      不織布          6\n",
       "635   2459   敦吉    4595.613365        其他電子業     資訊通路          6\n",
       "636   2458   義隆   31428.662670          半導體      半導體          6\n",
       "1031  3545   敦泰   15165.817820          半導體      半導體          6\n",
       "684   2376   技嘉   42236.934765        電腦及週邊      主機板          6\n",
       "852   6114   久威    1636.715990        電子零組件      主機板          6\n",
       "114   3016   嘉晶   15383.529037          半導體      半導體          6\n",
       "255   2856  元富證   14700.476190          金融業       證券          6\n",
       "945   4736   泰博   13422.381862         生技醫療     醫療耗材          6\n",
       "764   2371   大同   53752.727128         電機機械     電機製品          6\n",
       "168   3209   全科    3854.661893        電子通路業     資訊通路          6\n",
       "742   2499   東貝    4056.377049          光電業   光電/ IO          6\n",
       "179   6283   淳安    5821.917263        其他電子業   光電/ IO          6\n",
       "707   2495   普安    3888.739857        其他電子業   光電/ IO          5\n",
       "743   2498  宏達電   39312.501193        通信網路業     通訊設備          5"
      ]
     },
     "execution_count": 18,
     "metadata": {},
     "output_type": "execute_result"
    }
   ],
   "source": [
    "aviable_t_table.sort_values('aviable_t', ascending=False).head(20)"
   ]
  },
  {
   "cell_type": "code",
   "execution_count": null,
   "metadata": {},
   "outputs": [],
   "source": []
  },
  {
   "cell_type": "code",
   "execution_count": null,
   "metadata": {},
   "outputs": [],
   "source": []
  },
  {
   "cell_type": "markdown",
   "metadata": {},
   "source": [
    "# 有興趣的投資人指標"
   ]
  },
  {
   "cell_type": "code",
   "execution_count": null,
   "metadata": {},
   "outputs": [],
   "source": [
    "expect_col = ['margin_short_ratio', 'intitution_turnover_rate']\n",
    "aviable_t_list = []\n",
    "for res in res_list:\n",
    "    aviable_t = (res['res'].pvalues[expect_col] < 0.1).sum()\n",
    "    if aviable_t > 0:\n",
    "        code = res['code']\n",
    "        stock_data = all_data.query('code == @code')[[\"code\",\"name\",\"new_industry\",\"industry\"]].dropna()\n",
    "        stock_info = stock_data.iloc[-1, :4]\n",
    "        #print(\" | \".join(stock_data.iloc[-1, :4].values), aviable_t)\n",
    "        aviable_t_list.append({\n",
    "            'code': code,\n",
    "            'name': stock_info['name'],\n",
    "            'new_industry': stock_info['new_industry'],\n",
    "            'industry': stock_info['industry'],\n",
    "            'aviable_t': aviable_t\n",
    "        })\n",
    "aviable_t_table = pd.DataFrame(aviable_t_list)"
   ]
  },
  {
   "cell_type": "code",
   "execution_count": null,
   "metadata": {},
   "outputs": [],
   "source": [
    "aviable_t_table.pivot_table(index=['new_industry'], aggfunc=sum).sort_values(\n",
    "    'aviable_t', ascending=False\n",
    ")"
   ]
  },
  {
   "cell_type": "code",
   "execution_count": null,
   "metadata": {},
   "outputs": [],
   "source": [
    "target_industry = aviable_t_table[aviable_t_table['new_industry'].isin(\n",
    "    ['電子零組件', '半導體', '電機機械', '建材營造'])\n",
    "]\n",
    "target_industry.pivot_table(index=['new_industry', 'industry'], aggfunc=sum)"
   ]
  },
  {
   "cell_type": "code",
   "execution_count": null,
   "metadata": {},
   "outputs": [],
   "source": []
  },
  {
   "cell_type": "code",
   "execution_count": null,
   "metadata": {},
   "outputs": [],
   "source": []
  },
  {
   "cell_type": "code",
   "execution_count": null,
   "metadata": {},
   "outputs": [],
   "source": [
    "price_data"
   ]
  },
  {
   "cell_type": "code",
   "execution_count": null,
   "metadata": {},
   "outputs": [],
   "source": []
  },
  {
   "cell_type": "code",
   "execution_count": null,
   "metadata": {},
   "outputs": [],
   "source": []
  },
  {
   "cell_type": "markdown",
   "metadata": {},
   "source": [
    "# 單隻"
   ]
  },
  {
   "cell_type": "code",
   "execution_count": null,
   "metadata": {},
   "outputs": [],
   "source": [
    "code = \"2498\"\n",
    "\n",
    "stock_data = all_data.query('code == @code')\n",
    "stock_data = stock_data.ffill().dropna()\n",
    "stock_data['return_t1'] = stock_data['return'].shift(-1)\n",
    "stock_data = stock_data.dropna()\n",
    "\n",
    "try:\n",
    "    \n",
    "    stock_data['PB_TSE'] = stock_data['PB_TSE'].astype(float)\n",
    "    stock_data['YOY'] = stock_data['YOY'].astype(float)\n",
    "    stock_data['TAR'] = stock_data['TAR'].astype(float)\n",
    "        \n",
    "        \n",
    "    ## 資券比\n",
    "    stock_data['short_margin_ratio'] = stock_data['short_margin_ratio'].astype(float)\n",
    "    def convert(x):\n",
    "        if x == 0 :\n",
    "            return 0\n",
    "        else:\n",
    "            return 1/(x)*10000\n",
    "    stock_data['margin_short_ratio'] = stock_data['short_margin_ratio'].apply(convert)\n",
    "\n",
    "    ## 合計週轉率\n",
    "    stock_data['intitution_turnover_rate']  = stock_data[['trust_turnover_rate', 'broker_turnover_rate', 'short_margin_ratio']].sum(1)\n",
    "\n",
    "except:\n",
    "    print(\"有問題：\", code)\n",
    "    \n",
    "\n",
    "y = stock_data['return_t1'].values.reshape((-1, 1))\n",
    "x = stock_data[[\n",
    "    'return', \n",
    "    'size', \n",
    "    'PB_TSE',\n",
    "#     'ROA',\n",
    "    'YOY', \n",
    "    'TAR',\n",
    "    'turn_over', \n",
    "    'margin_short_ratio', \n",
    "    'intitution_turnover_rate',\n",
    "]]\n",
    "\n",
    "model = sm.OLS(y,  sm.add_constant(x,  prepend=False))\n",
    "res = model.fit()       # Fit model\n",
    "print(res.summary())   # Summarize model\n",
    "\n",
    "aviable_t = (res.pvalues[:-1] < 0.1).sum()\n",
    "if aviable_t > 2:\n",
    "    print(stock_data.iloc[0, :3])\n",
    "    print(aviable_t)\n",
    "    print('----------')"
   ]
  },
  {
   "cell_type": "code",
   "execution_count": null,
   "metadata": {},
   "outputs": [],
   "source": []
  },
  {
   "cell_type": "code",
   "execution_count": null,
   "metadata": {},
   "outputs": [],
   "source": []
  },
  {
   "cell_type": "code",
   "execution_count": null,
   "metadata": {},
   "outputs": [],
   "source": []
  },
  {
   "cell_type": "code",
   "execution_count": null,
   "metadata": {},
   "outputs": [],
   "source": [
    "code = \"2201\"\n",
    "stock_data = all_data.query('code == @code')\n",
    "stock_data = stock_data.ffill().dropna()\n",
    "stock_data['return_t1'] = stock_data['return'].shift(-1)\n",
    "stock_data = stock_data.dropna()\n",
    "\n",
    "try:\n",
    "    \n",
    "    stock_data['PB_TSE'] = stock_data['PB_TSE'].astype(float)\n",
    "    stock_data['YOY'] = stock_data['YOY'].astype(float)\n",
    "    stock_data['TAR'] = stock_data['TAR'].astype(float)\n",
    "        \n",
    "        \n",
    "    ## 資券比\n",
    "    stock_data['short_margin_ratio'] = stock_data['short_margin_ratio'].astype(float)\n",
    "    def convert(x):\n",
    "        if x == 0 :\n",
    "            return 0\n",
    "        else:\n",
    "            return 1/(x)*10000\n",
    "    stock_data['margin_short_ratio'] = stock_data['short_margin_ratio'].apply(convert)\n",
    "\n",
    "    ## 合計週轉率\n",
    "    stock_data['intitution_turnover_rate']  = stock_data[['trust_turnover_rate', 'broker_turnover_rate', 'short_margin_ratio']].sum(1)\n",
    "\n",
    "except:\n",
    "    print(\"有問題：\", code)\n",
    "    \n",
    "\n",
    "y = stock_data['return_t1'].values.reshape((-1, 1))\n",
    "x = stock_data[[\n",
    "    'return', \n",
    "    'size', \n",
    "    'PB_TSE',\n",
    "#     'ROA',\n",
    "    'YOY', \n",
    "    'TAR',\n",
    "    'turn_over', \n",
    "    'margin_short_ratio', \n",
    "    'intitution_turnover_rate',\n",
    "]]\n",
    "\n",
    "model = sm.OLS(y,  sm.add_constant(x,  prepend=False))\n",
    "res = model.fit()       # Fit model\n",
    "print(res.summary())   # Summarize model\n",
    "\n",
    "aviable_t = (res.pvalues[:-1] < 0.1).sum()\n",
    "if aviable_t > 2:\n",
    "    print(stock_data.iloc[0, :3])\n",
    "    print(aviable_t)\n",
    "    print('----------')"
   ]
  },
  {
   "cell_type": "code",
   "execution_count": null,
   "metadata": {},
   "outputs": [],
   "source": [
    "                            OLS Regression Results                            \n",
    "==============================================================================\n",
    "Dep. Variable:                      y   R-squared:                       0.010\n",
    "Model:                            OLS   Adj. R-squared:                  0.004\n",
    "Method:                 Least Squares   F-statistic:                     1.598\n",
    "Date:                Mon, 28 Feb 2022   Prob (F-statistic):              0.121\n",
    "Time:                        17:15:48   Log-Likelihood:                -2597.6\n",
    "No. Observations:                1256   AIC:                             5213.\n",
    "Df Residuals:                    1247   BIC:                             5259.\n",
    "Df Model:                           8                                         \n",
    "Covariance Type:            nonrobust                                         \n",
    "============================================================================================\n",
    "                               coef    std err          t      P>|t|      [0.025      0.975]\n",
    "--------------------------------------------------------------------------------------------\n",
    "return                       0.0018      0.029      0.064      0.949      -0.055       0.059\n",
    "size                     -1.868e-05   1.58e-05     -1.185      0.236   -4.96e-05    1.23e-05\n",
    "PB_TSE                       0.4055      0.624      0.650      0.516      -0.818       1.630\n",
    "YOY                         -0.0113      0.008     -1.345      0.179      -0.028       0.005\n",
    "TAR                         -0.0008      0.009     -0.096      0.923      -0.018       0.016\n",
    "turn_over                    0.3170      0.105      3.015      0.003       0.111       0.523\n",
    "margin_short_ratio       -2.458e-07   1.19e-06     -0.206      0.836   -2.58e-06    2.09e-06\n",
    "intitution_turnover_rate    -0.0107      0.025     -0.421      0.674      -0.060       0.039\n",
    "const                        0.2918      0.583      0.501      0.617      -0.852       1.436\n",
    "==============================================================================\n",
    "Omnibus:                      252.497   Durbin-Watson:                   2.001\n",
    "Prob(Omnibus):                  0.000   Jarque-Bera (JB):             2497.824\n",
    "Skew:                           0.627   Prob(JB):                         0.00\n",
    "Kurtosis:                       9.794   Cond. No.                     6.91e+05\n",
    "==============================================================================\n"
   ]
  },
  {
   "cell_type": "code",
   "execution_count": null,
   "metadata": {},
   "outputs": [],
   "source": []
  },
  {
   "cell_type": "code",
   "execution_count": null,
   "metadata": {},
   "outputs": [],
   "source": []
  },
  {
   "cell_type": "code",
   "execution_count": null,
   "metadata": {},
   "outputs": [],
   "source": []
  },
  {
   "cell_type": "markdown",
   "metadata": {},
   "source": [
    "# 讀取資料"
   ]
  },
  {
   "cell_type": "code",
   "execution_count": null,
   "metadata": {},
   "outputs": [],
   "source": [
    "price_data = pd.read_csv('./taiwan-index-price-data.txt', encoding='cp950')"
   ]
  },
  {
   "cell_type": "code",
   "execution_count": null,
   "metadata": {},
   "outputs": [],
   "source": [
    "price_data"
   ]
  },
  {
   "cell_type": "markdown",
   "metadata": {},
   "source": [
    "# 資料基本欄位檢查"
   ]
  },
  {
   "cell_type": "code",
   "execution_count": null,
   "metadata": {},
   "outputs": [],
   "source": [
    "price_data.info()"
   ]
  },
  {
   "cell_type": "code",
   "execution_count": null,
   "metadata": {},
   "outputs": [],
   "source": [
    "print(price_data['證券代碼'].drop_duplicates())\n",
    "print('-----------------------------')\n",
    "print(price_data['簡稱'].drop_duplicates())"
   ]
  },
  {
   "cell_type": "markdown",
   "metadata": {},
   "source": [
    "# 查詢資料"
   ]
  },
  {
   "cell_type": "code",
   "execution_count": null,
   "metadata": {},
   "outputs": [],
   "source": [
    "price_data['年月日'] == 20000104"
   ]
  },
  {
   "cell_type": "markdown",
   "metadata": {},
   "source": [
    "##### 為什麼找不到想要的代碼"
   ]
  },
  {
   "cell_type": "code",
   "execution_count": null,
   "metadata": {},
   "outputs": [],
   "source": [
    "target_data = price_data[price_data['證券代碼'] == 'M1800']\n",
    "target_data"
   ]
  },
  {
   "cell_type": "code",
   "execution_count": null,
   "metadata": {},
   "outputs": [],
   "source": [
    "price_data['證券代碼'].drop_duplicates().values"
   ]
  },
  {
   "cell_type": "code",
   "execution_count": null,
   "metadata": {},
   "outputs": [],
   "source": [
    "def clearSpace(value):\n",
    "    return value.strip()"
   ]
  },
  {
   "cell_type": "code",
   "execution_count": null,
   "metadata": {},
   "outputs": [],
   "source": [
    "price_data['證券代碼'] = price_data['證券代碼'].apply(clearSpace)\n",
    "price_data['簡稱'] = price_data['簡稱'].apply(clearSpace)"
   ]
  },
  {
   "cell_type": "markdown",
   "metadata": {},
   "source": [
    "#### 再來找看看"
   ]
  },
  {
   "cell_type": "code",
   "execution_count": null,
   "metadata": {},
   "outputs": [],
   "source": [
    "target_data = price_data[price_data['證券代碼'] == 'M1800']\n",
    "target_data"
   ]
  },
  {
   "cell_type": "markdown",
   "metadata": {},
   "source": [
    "## index 跑掉了？"
   ]
  },
  {
   "cell_type": "code",
   "execution_count": null,
   "metadata": {},
   "outputs": [],
   "source": [
    "target_data = target_data.reset_index(drop=True)\n",
    "target_data"
   ]
  },
  {
   "cell_type": "markdown",
   "metadata": {},
   "source": [
    "# 新增報酬率欄位"
   ]
  },
  {
   "cell_type": "code",
   "execution_count": null,
   "metadata": {},
   "outputs": [],
   "source": [
    "target_data['收盤價(元)']"
   ]
  },
  {
   "cell_type": "code",
   "execution_count": null,
   "metadata": {
    "scrolled": true
   },
   "outputs": [],
   "source": [
    "target_data['ret'] = target_data['收盤價(元)'].diff(1)/target_data['收盤價(元)'].shift(1)\n",
    "target_data"
   ]
  },
  {
   "cell_type": "code",
   "execution_count": null,
   "metadata": {},
   "outputs": [],
   "source": [
    "target_data = target_data.dropna()"
   ]
  },
  {
   "cell_type": "markdown",
   "metadata": {},
   "source": [
    "# 基本敘述性統計"
   ]
  },
  {
   "cell_type": "code",
   "execution_count": null,
   "metadata": {},
   "outputs": [],
   "source": [
    "target_data.describe()"
   ]
  },
  {
   "cell_type": "markdown",
   "metadata": {},
   "source": [
    "## 偏態 與 峰態"
   ]
  },
  {
   "cell_type": "code",
   "execution_count": null,
   "metadata": {},
   "outputs": [],
   "source": [
    "from scipy import stats"
   ]
  },
  {
   "cell_type": "code",
   "execution_count": null,
   "metadata": {},
   "outputs": [],
   "source": [
    "## 偏態\n",
    "skew = stats.skew(target_data['收盤價(元)'])\n",
    "## 峰態 fisher=False 是 Eviews 作法\n",
    "kurtosis = stats.kurtosis(target_data['收盤價(元)'], fisher=False)\n",
    "\n",
    "print('skew      :  {}'.format(skew))\n",
    "print('kurtosis  :  {}'.format(kurtosis))"
   ]
  },
  {
   "cell_type": "markdown",
   "metadata": {},
   "source": [
    "# 相關係數表"
   ]
  },
  {
   "cell_type": "code",
   "execution_count": null,
   "metadata": {},
   "outputs": [],
   "source": [
    "target_data.corr()"
   ]
  },
  {
   "cell_type": "code",
   "execution_count": null,
   "metadata": {},
   "outputs": [],
   "source": []
  }
 ],
 "metadata": {
  "kernelspec": {
   "display_name": "Python 3",
   "language": "python",
   "name": "python3"
  },
  "language_info": {
   "codemirror_mode": {
    "name": "ipython",
    "version": 3
   },
   "file_extension": ".py",
   "mimetype": "text/x-python",
   "name": "python",
   "nbconvert_exporter": "python",
   "pygments_lexer": "ipython3",
   "version": "3.7.4"
  }
 },
 "nbformat": 4,
 "nbformat_minor": 2
}
