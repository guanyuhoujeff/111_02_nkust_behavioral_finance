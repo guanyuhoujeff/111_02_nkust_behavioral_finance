{
 "cells": [
  {
   "cell_type": "markdown",
   "metadata": {},
   "source": [
    "## 套件"
   ]
  },
  {
   "cell_type": "code",
   "execution_count": null,
   "metadata": {},
   "outputs": [],
   "source": [
    "import pandas as pd\n",
    "import random"
   ]
  },
  {
   "cell_type": "code",
   "execution_count": null,
   "metadata": {},
   "outputs": [],
   "source": [
    "data = pd.read_pickle('./all_significant_table.pkl')\n",
    "obs_num = data.obs_num.max()\n",
    "data = data.query('obs_num == @obs_num')"
   ]
  },
  {
   "cell_type": "code",
   "execution_count": null,
   "metadata": {},
   "outputs": [],
   "source": [
    "student_table = pd.read_excel('../../110-2 行為金融決策修課名單 20220327.xlsx')"
   ]
  },
  {
   "cell_type": "code",
   "execution_count": null,
   "metadata": {
    "scrolled": false
   },
   "outputs": [],
   "source": [
    "student_num = student_table.shape[0]\n",
    "\n",
    "for no, payload in zip(\n",
    "    range(student_num+1),\n",
    "    random.sample(data[['code', 'name', 'new_industry']].to_dict('records'), k=student_num)\n",
    "#     random.choices(data[['code', 'name', 'new_industry']].to_dict('records'), k=student_num)\n",
    "):\n",
    "    student = student_table.iloc[no]\n",
    "    print(\"no.%.2d, 學號: %s, 姓名: %s, 股票代號: %s, 股票名稱: %s\"%(\n",
    "        no,\n",
    "        student['學號'].strip(),\n",
    "        student['姓名'].strip(),\n",
    "        payload['code'],\n",
    "        payload['name']\n",
    "    ))"
   ]
  },
  {
   "cell_type": "code",
   "execution_count": null,
   "metadata": {},
   "outputs": [],
   "source": []
  }
 ],
 "metadata": {
  "kernelspec": {
   "display_name": "Python 3",
   "language": "python",
   "name": "python3"
  },
  "language_info": {
   "codemirror_mode": {
    "name": "ipython",
    "version": 3
   },
   "file_extension": ".py",
   "mimetype": "text/x-python",
   "name": "python",
   "nbconvert_exporter": "python",
   "pygments_lexer": "ipython3",
   "version": "3.7.4"
  }
 },
 "nbformat": 4,
 "nbformat_minor": 2
}
