{
 "cells": [
  {
   "cell_type": "markdown",
   "metadata": {},
   "source": [
    "## 套件"
   ]
  },
  {
   "cell_type": "code",
   "execution_count": null,
   "metadata": {},
   "outputs": [],
   "source": [
    "# as => 取小名\n",
    "\n",
    "import ????"
   ]
  },
  {
   "cell_type": "code",
   "execution_count": null,
   "metadata": {},
   "outputs": [],
   "source": [
    "# 讀取 csv 檔案\n",
    "\n",
    "price_data = pd.?????('../data/price.txt')"
   ]
  },
  {
   "cell_type": "markdown",
   "metadata": {},
   "source": [
    "# 查看讀取資料"
   ]
  },
  {
   "cell_type": "code",
   "execution_count": null,
   "metadata": {},
   "outputs": [],
   "source": [
    "# 查看前五筆資料\n",
    "price_data.????()"
   ]
  },
  {
   "cell_type": "code",
   "execution_count": null,
   "metadata": {},
   "outputs": [],
   "source": [
    "# 查看後五筆資料\n",
    "price_data.?????()"
   ]
  },
  {
   "cell_type": "markdown",
   "metadata": {},
   "source": [
    "# 各欄位的資料型態"
   ]
  },
  {
   "cell_type": "code",
   "execution_count": null,
   "metadata": {
    "scrolled": true
   },
   "outputs": [],
   "source": [
    "price_data.?????()"
   ]
  },
  {
   "cell_type": "markdown",
   "metadata": {},
   "source": [
    "# 基本敘述性統計"
   ]
  },
  {
   "cell_type": "code",
   "execution_count": null,
   "metadata": {},
   "outputs": [],
   "source": [
    "price_data.?????()"
   ]
  },
  {
   "cell_type": "markdown",
   "metadata": {},
   "source": [
    "# 相關係數表"
   ]
  },
  {
   "cell_type": "code",
   "execution_count": null,
   "metadata": {},
   "outputs": [],
   "source": [
    "price_data.????()"
   ]
  },
  {
   "cell_type": "markdown",
   "metadata": {},
   "source": [
    "## 偏態 與 峰態"
   ]
  },
  {
   "cell_type": "code",
   "execution_count": 3,
   "metadata": {},
   "outputs": [],
   "source": [
    "from scipy import stats"
   ]
  },
  {
   "cell_type": "code",
   "execution_count": 4,
   "metadata": {},
   "outputs": [],
   "source": [
    "# 如果發生 ModuleNotFoundError: No module named 'scipy'\n",
    "# 安裝套件：\n",
    "# !pip install scipy"
   ]
  },
  {
   "cell_type": "code",
   "execution_count": null,
   "metadata": {},
   "outputs": [],
   "source": [
    "## 偏態\n",
    "skew = stats.skew(price_data['收盤價(元)'])\n",
    "## 峰態 fisher=False 是 Eviews 作法\n",
    "kurtosis = stats.kurtosis(price_data['收盤價(元)'], fisher=False)\n",
    "\n",
    "print('skew      :  {}'.format(skew))\n",
    "print('kurtosis  :  {}'.format(kurtosis))"
   ]
  },
  {
   "cell_type": "markdown",
   "metadata": {},
   "source": [
    "# 讀取其他資料"
   ]
  },
  {
   "cell_type": "code",
   "execution_count": null,
   "metadata": {},
   "outputs": [],
   "source": [
    "ifrs_data = pd.read_csv('../data/ifrs.txt',  encoding='cp950')\n",
    "institution_data = pd.read_csv('../data/institution.txt',  encoding='cp950')\n",
    "margin_data = pd.read_csv('../data/margin.txt',  encoding='cp950')"
   ]
  },
  {
   "cell_type": "code",
   "execution_count": null,
   "metadata": {},
   "outputs": [],
   "source": [
    "# 查看後五筆資料\n",
    "ifrs_data.tail()"
   ]
  },
  {
   "cell_type": "code",
   "execution_count": null,
   "metadata": {},
   "outputs": [],
   "source": [
    "# 查看後五筆資料\n",
    "institution_data.tail()"
   ]
  },
  {
   "cell_type": "code",
   "execution_count": null,
   "metadata": {},
   "outputs": [],
   "source": [
    "# 查看後五筆資料\n",
    "margin_data.tail()"
   ]
  },
  {
   "cell_type": "markdown",
   "metadata": {},
   "source": [
    "# 怎麼好像欄位名稱都不一樣？"
   ]
  },
  {
   "cell_type": "markdown",
   "metadata": {},
   "source": [
    "### 欄位改名"
   ]
  },
  {
   "cell_type": "code",
   "execution_count": null,
   "metadata": {},
   "outputs": [],
   "source": [
    "rename_column_maplist = {\n",
    "    ## price\n",
    "    '證券代碼' : \"code\", \n",
    "    '簡稱' : 'name', \n",
    "    'TSE新產業_名稱' : 'new_industry', \n",
    "    'TEJ產業_名稱' : 'industry', \n",
    "    '年月日'  : \"date\", \n",
    "    '開盤價(元)': 'open',\n",
    "    '最高價(元)': 'high',\n",
    "    '最低價(元)': 'low',\n",
    "    '收盤價(元)' : 'close', \n",
    "    '成交量(千股)' : 'volume', \n",
    "    '報酬率％' : 'return', \n",
    "    '週轉率％' : \"turn_over\", \n",
    "    '市值(百萬元)' : \"size\", \n",
    "    '股價淨值比-TSE': \"PB_TSE\", \n",
    "    \n",
    "    ### ifrs\n",
    "    '公司': 'code',\n",
    "    '年/月': 'date_year_month',\n",
    "    '營收成長率': 'YOY',\n",
    "    '總資產成長率': \"TAR\",\n",
    "    \n",
    "    ### institution\n",
    "    '證券名稱': 'code',\n",
    "    '外資週轉率%' : 'foreign_turnover_rate',\n",
    "    '投信週轉率%' : 'trust_turnover_rate',\n",
    "    '自營商週轉率%' : 'broker_turnover_rate',\n",
    "    \n",
    "    ## margin\n",
    "    '公司代碼': 'code',\n",
    "    '券資比': 'short_margin_ratio',\n",
    "    '融資餘額(張)' : 'margin_balance',\n",
    "    '融券餘額(張)' : 'short_balance',\n",
    "}"
   ]
  },
  {
   "cell_type": "code",
   "execution_count": null,
   "metadata": {},
   "outputs": [],
   "source": [
    "print('欄位改名前：', price_data.????)"
   ]
  },
  {
   "cell_type": "code",
   "execution_count": null,
   "metadata": {},
   "outputs": [],
   "source": [
    "price_data.????? (????=rename_column_maplist, inplace=True)\n",
    "print('欄位改名後：', price_data.columns)"
   ]
  },
  {
   "cell_type": "code",
   "execution_count": null,
   "metadata": {},
   "outputs": [],
   "source": [
    "# https://s61160230.pixnet.net/blog/post/218812467\n",
    "\n",
    "print('欄位改名前：', ifrs_data.columns)\n",
    "ifrs_data.rename(columns=rename_column_maplist, inplace=True)\n",
    "print('欄位改名後：', ifrs_data.columns)\n",
    "print('--'*50)\n",
    "\n",
    "print('欄位改名前：', institution_data.columns)\n",
    "institution_data.rename(columns=rename_column_maplist, inplace=True)\n",
    "print('欄位改名後：', institution_data.columns)\n",
    "print('--'*50)\n",
    "\n",
    "print('欄位改名前：', margin_data.columns)\n",
    "margin_data.rename(columns=rename_column_maplist, inplace=True)\n",
    "print('欄位改名後：', margin_data.columns)\n",
    "print('--'*50)"
   ]
  },
  {
   "cell_type": "markdown",
   "metadata": {},
   "source": [
    "# 資料視覺化"
   ]
  },
  {
   "cell_type": "code",
   "execution_count": null,
   "metadata": {},
   "outputs": [],
   "source": [
    "import matplotlib.pyplot as plt"
   ]
  },
  {
   "cell_type": "code",
   "execution_count": null,
   "metadata": {},
   "outputs": [],
   "source": [
    "# 看最新近100筆資料\n",
    "show_data = price_data.??????(100)\n",
    "show_data"
   ]
  },
  {
   "cell_type": "markdown",
   "metadata": {},
   "source": [
    "#### 收盤價"
   ]
  },
  {
   "cell_type": "code",
   "execution_count": null,
   "metadata": {},
   "outputs": [],
   "source": [
    "plt.figure(figsize=(20, 8))\n",
    "plt.???????(show_data['close'])\n",
    "plt.title('close pirce')\n",
    "plt.xlabel('Time')\n",
    "plt.ylabel('pirce')\n",
    "plt.grid(color = 'red', linestyle = '--', linewidth = 1)\n",
    "plt.show()"
   ]
  },
  {
   "cell_type": "markdown",
   "metadata": {},
   "source": [
    "#### 成交量"
   ]
  },
  {
   "cell_type": "code",
   "execution_count": null,
   "metadata": {},
   "outputs": [],
   "source": [
    "plt.figure(figsize=(20, 8))\n",
    "plt..???????(show_data.index, show_data['volume'], width=4)\n",
    "plt.title('volume')\n",
    "plt.xlabel('Time')\n",
    "plt.ylabel('volume')\n",
    "plt.grid(color = 'red', linestyle = '--', linewidth = 1)\n",
    "plt.show()"
   ]
  },
  {
   "cell_type": "markdown",
   "metadata": {},
   "source": [
    "# 放在一起"
   ]
  },
  {
   "cell_type": "code",
   "execution_count": null,
   "metadata": {
    "scrolled": false
   },
   "outputs": [],
   "source": [
    "# 建立繪圖物件 fig, 內有 2 列 1 欄的小圖\n",
    "fig, (ax1, ax2) = plt.subplots(2, 1, figsize = (20, 10))\n",
    "\n",
    "# 收盤價\n",
    "ax1.set_title(\"close price\")\n",
    "ax1.set_xlabel('Time', fontsize = 16)\n",
    "ax1.set_ylabel('pirce', fontsize = 16)\n",
    "ax1.grid(color = 'red', linestyle = '--', linewidth = 1)\n",
    "ax1.plot(show_data['close'])\n",
    "\n",
    "# 成交量\n",
    "ax2.set_title(\"volume\")\n",
    "ax2.set_xlabel('Time', fontsize = 16)\n",
    "ax2.set_ylabel('volume', fontsize = 16)\n",
    "ax2.grid(color = 'red', linestyle = '--', linewidth = 1)\n",
    "plt.bar(show_data.index, show_data['volume'], width=4)\n",
    "\n",
    "# 用 savefig 儲存圖片, 用 show 顯示圖片\n",
    "fig.show()"
   ]
  },
  {
   "cell_type": "code",
   "execution_count": null,
   "metadata": {},
   "outputs": [],
   "source": []
  }
 ],
 "metadata": {
  "kernelspec": {
   "display_name": "Python 3",
   "language": "python",
   "name": "python3"
  },
  "language_info": {
   "codemirror_mode": {
    "name": "ipython",
    "version": 3
   },
   "file_extension": ".py",
   "mimetype": "text/x-python",
   "name": "python",
   "nbconvert_exporter": "python",
   "pygments_lexer": "ipython3",
   "version": "3.7.4"
  }
 },
 "nbformat": 4,
 "nbformat_minor": 2
}
