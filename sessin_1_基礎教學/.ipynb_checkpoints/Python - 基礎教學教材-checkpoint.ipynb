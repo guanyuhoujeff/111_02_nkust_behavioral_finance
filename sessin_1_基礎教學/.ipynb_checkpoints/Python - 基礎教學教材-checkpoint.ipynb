{
 "cells": [
  {
   "cell_type": "markdown",
   "metadata": {},
   "source": [
    "\n",
    "# 執行 cell：\n",
    "   * Shfit + Enter 執行該 cell 且跳下一個 cell \n",
    "   * Ctrl + Enter 執行該 cell (但停在該 cell)"
   ]
  },
  {
   "cell_type": "code",
   "execution_count": null,
   "metadata": {},
   "outputs": [],
   "source": [
    "a = 1223"
   ]
  },
  {
   "cell_type": "code",
   "execution_count": null,
   "metadata": {},
   "outputs": [],
   "source": [
    "a"
   ]
  },
  {
   "cell_type": "code",
   "execution_count": null,
   "metadata": {},
   "outputs": [],
   "source": [
    "a = \"gdwgqw\""
   ]
  },
  {
   "cell_type": "code",
   "execution_count": null,
   "metadata": {},
   "outputs": [],
   "source": [
    "9*6"
   ]
  },
  {
   "cell_type": "code",
   "execution_count": null,
   "metadata": {},
   "outputs": [],
   "source": [
    "print(\"1 除 3 : \", 1/3)\n",
    "print(\"2 除 3 : \", 2/3)"
   ]
  },
  {
   "cell_type": "markdown",
   "metadata": {},
   "source": [
    "# 函式說明：\n",
    "  * ?FunctionName\n",
    "  * help(FunctionName)"
   ]
  },
  {
   "cell_type": "code",
   "execution_count": null,
   "metadata": {},
   "outputs": [],
   "source": [
    "?print"
   ]
  },
  {
   "cell_type": "code",
   "execution_count": null,
   "metadata": {},
   "outputs": [],
   "source": [
    "help(sum)"
   ]
  },
  {
   "cell_type": "markdown",
   "metadata": {},
   "source": [
    "# 如何註解：\n",
    "   *  單行  -> #　　　快捷鍵「Ctrl + /」\n",
    "   *  多行  -> \"\"\"  \"\"\""
   ]
  },
  {
   "cell_type": "code",
   "execution_count": null,
   "metadata": {},
   "outputs": [],
   "source": [
    "# 計算 1+1\n",
    "1+1"
   ]
  },
  {
   "cell_type": "code",
   "execution_count": null,
   "metadata": {},
   "outputs": [],
   "source": [
    "\"\"\"\n",
    "計算\n",
    "45646+565 *(556-622)\n",
    "\"\"\"\n",
    "45646+565 *(556-622)"
   ]
  },
  {
   "cell_type": "markdown",
   "metadata": {},
   "source": [
    "# 常見的資料型態"
   ]
  },
  {
   "cell_type": "markdown",
   "metadata": {},
   "source": [
    "* 數值 number\n",
    "     - 整數 integer (int)\n",
    "     - 浮點數 float\n",
    "* 字串 string (str)\n",
    "* 邏輯 boolean (bool): True: 1; False: 0\n",
    "* 容器型態\n",
    "     - [列表 list](http://www.runoob.com/python/python-lists.html)\n",
    "     - [元組 tuple](http://www.runoob.com/python/python-tuples.html)\n",
    "     - [字典 dict](http://www.runoob.com/python/python-dictionary.html)\n",
    "     - [集合 set](http://www.iplaypython.com/jichu/set.html)\n",
    "     \n",
    "### 分成不可變(immutable)與可變(mutable)\n",
    "* immutable: int, float, str, bool, tuple\n",
    "* mutable: list, dict, set"
   ]
  },
  {
   "cell_type": "markdown",
   "metadata": {},
   "source": [
    "# 字串 str"
   ]
  },
  {
   "cell_type": "code",
   "execution_count": null,
   "metadata": {
    "scrolled": false
   },
   "outputs": [],
   "source": [
    "life = \"     人生     \""
   ]
  },
  {
   "cell_type": "code",
   "execution_count": null,
   "metadata": {},
   "outputs": [],
   "source": [
    "type(life) "
   ]
  },
  {
   "cell_type": "code",
   "execution_count": null,
   "metadata": {},
   "outputs": [],
   "source": [
    "life.strip()"
   ]
  },
  {
   "cell_type": "markdown",
   "metadata": {},
   "source": [
    "# 流程控制"
   ]
  },
  {
   "cell_type": "markdown",
   "metadata": {},
   "source": [
    "# if-elif-else"
   ]
  },
  {
   "cell_type": "code",
   "execution_count": null,
   "metadata": {},
   "outputs": [],
   "source": [
    "A = 3\n",
    "B = 2\n",
    "\n",
    "if A == B:\n",
    "    print('A = B')\n",
    "else:\n",
    "    print('A != B')"
   ]
  },
  {
   "cell_type": "code",
   "execution_count": null,
   "metadata": {},
   "outputs": [],
   "source": [
    "# 巢狀條件判斷 if-elif-else\n",
    "\n",
    "score = 59\n",
    "if 80 < score <= 100:\n",
    "    print(\"太聰明了\")\n",
    "elif 60 < score <= 80:\n",
    "    print(\"有進步的空間\")\n",
    "elif 40 < score <= 60:\n",
    "    print(\"看來有很大進步的空間\")  \n",
    "elif score <= 40:\n",
    "    print(\"可以打掉重練了\")\n",
    "else:\n",
    "    print(\"神一般的等級\")"
   ]
  },
  {
   "cell_type": "markdown",
   "metadata": {},
   "source": [
    "# for 迴圈"
   ]
  },
  {
   "cell_type": "code",
   "execution_count": null,
   "metadata": {
    "scrolled": true
   },
   "outputs": [],
   "source": [
    "# 從 0印出來到 9\n",
    "for i in range(10):\n",
    "    print(i)"
   ]
  },
  {
   "cell_type": "code",
   "execution_count": null,
   "metadata": {},
   "outputs": [],
   "source": [
    "student_names = [\"Jam\", \"Mary\", \"Bob\", \"Patrick\", \"John\"]\n",
    "for name in student_names:\n",
    "    print(\"班上的學生有：\",name)"
   ]
  },
  {
   "cell_type": "code",
   "execution_count": null,
   "metadata": {},
   "outputs": [],
   "source": [
    "for idx, name in enumerate(student_names):\n",
    "    print(\"班上的學生有：\",name,\"  ，學號是\",idx)"
   ]
  },
  {
   "cell_type": "markdown",
   "metadata": {},
   "source": [
    "# break 與 continue"
   ]
  },
  {
   "cell_type": "code",
   "execution_count": null,
   "metadata": {},
   "outputs": [],
   "source": [
    "for i in range(20):\n",
    "    if i == 5:\n",
    "        break\n",
    "    print(i)"
   ]
  },
  {
   "cell_type": "code",
   "execution_count": null,
   "metadata": {},
   "outputs": [],
   "source": [
    "for i in range(20):\n",
    "    if i == 5:\n",
    "        continue\n",
    "    print(i)"
   ]
  },
  {
   "cell_type": "markdown",
   "metadata": {
    "collapsed": true
   },
   "source": [
    "# 自定函式 (Functions)"
   ]
  },
  {
   "cell_type": "code",
   "execution_count": null,
   "metadata": {},
   "outputs": [],
   "source": [
    "# def function\n",
    "def Square(x): \n",
    "    return x**2"
   ]
  },
  {
   "cell_type": "code",
   "execution_count": null,
   "metadata": {},
   "outputs": [],
   "source": [
    "Square(6)"
   ]
  },
  {
   "cell_type": "markdown",
   "metadata": {},
   "source": [
    "### 預設輸入值"
   ]
  },
  {
   "cell_type": "code",
   "execution_count": null,
   "metadata": {},
   "outputs": [],
   "source": [
    "def printValue(x = \"Nothing input\"): \n",
    "    print(\"You input : \", x)\n",
    "\n",
    "\n",
    "printValue()\n",
    "printValue(32423)"
   ]
  },
  {
   "cell_type": "markdown",
   "metadata": {},
   "source": [
    "### lambda function"
   ]
  },
  {
   "cell_type": "code",
   "execution_count": null,
   "metadata": {},
   "outputs": [],
   "source": [
    "lambdaFunc = lambda x: x**2\n",
    "lambdaFunc(4)"
   ]
  },
  {
   "cell_type": "code",
   "execution_count": null,
   "metadata": {},
   "outputs": [],
   "source": [
    "MySum = lambda x, y: x + y\n",
    "MySum(3,2)"
   ]
  },
  {
   "cell_type": "code",
   "execution_count": null,
   "metadata": {},
   "outputs": [],
   "source": []
  },
  {
   "cell_type": "markdown",
   "metadata": {},
   "source": [
    "# 把程式碼包裝出去"
   ]
  },
  {
   "cell_type": "code",
   "execution_count": null,
   "metadata": {},
   "outputs": [],
   "source": []
  }
 ],
 "metadata": {
  "anaconda-cloud": {},
  "kernelspec": {
   "display_name": "Python 3",
   "language": "python",
   "name": "python3"
  },
  "language_info": {
   "codemirror_mode": {
    "name": "ipython",
    "version": 3
   },
   "file_extension": ".py",
   "mimetype": "text/x-python",
   "name": "python",
   "nbconvert_exporter": "python",
   "pygments_lexer": "ipython3",
   "version": "3.7.4"
  }
 },
 "nbformat": 4,
 "nbformat_minor": 1
}
