{
 "cells": [
  {
   "cell_type": "markdown",
   "metadata": {},
   "source": [
    "# 財經新報-明泰5月營收26.87 億元\n",
    "\n",
    "https://finance.technews.tw/2021/06/02/alpha-3380-202105-financial-report/"
   ]
  },
  {
   "cell_type": "markdown",
   "metadata": {},
   "source": [
    "### 1. 網路請求"
   ]
  },
  {
   "cell_type": "code",
   "execution_count": null,
   "metadata": {},
   "outputs": [],
   "source": [
    "import requests\n",
    "from bs4 import BeautifulSoup"
   ]
  },
  {
   "cell_type": "code",
   "execution_count": null,
   "metadata": {},
   "outputs": [],
   "source": [
    "url = 'https://finance.technews.tw/2021/06/02/alpha-3380-202105-financial-report/'\n",
    "res = requests.get(url)\n",
    "soup = BeautifulSoup(res.text, 'lxml')"
   ]
  },
  {
   "cell_type": "markdown",
   "metadata": {},
   "source": [
    "### 取得標題"
   ]
  },
  {
   "cell_type": "code",
   "execution_count": null,
   "metadata": {},
   "outputs": [],
   "source": [
    "title_tag = soup.select_one('.entry-title')\n",
    "title_tag"
   ]
  },
  {
   "cell_type": "markdown",
   "metadata": {},
   "source": [
    "### 作者、日期、分類"
   ]
  },
  {
   "cell_type": "code",
   "execution_count": null,
   "metadata": {},
   "outputs": [],
   "source": [
    "soup.select('.body')"
   ]
  },
  {
   "cell_type": "code",
   "execution_count": null,
   "metadata": {},
   "outputs": [],
   "source": [
    "author_tag = soup.select('.body')[0]\n",
    "datetime_tag = soup.select('.body')[1]\n",
    "article_type_tag = soup.select('.body')[2]"
   ]
  },
  {
   "cell_type": "markdown",
   "metadata": {},
   "source": [
    "### 內文"
   ]
  },
  {
   "cell_type": "code",
   "execution_count": null,
   "metadata": {},
   "outputs": [],
   "source": [
    "article_content_tag = soup.select_one('.indent')"
   ]
  },
  {
   "cell_type": "markdown",
   "metadata": {},
   "source": [
    "# 整理為純文字"
   ]
  },
  {
   "cell_type": "code",
   "execution_count": null,
   "metadata": {},
   "outputs": [],
   "source": [
    "article = {\n",
    "    'url': res.url,\n",
    "    'title': title_tag.text,\n",
    "    'author': author_tag.text,\n",
    "    'datetime': datetime_tag.text,\n",
    "    'article_type': article_type_tag.text,\n",
    "    'article_content': article_content_tag.text\n",
    "}"
   ]
  },
  {
   "cell_type": "code",
   "execution_count": null,
   "metadata": {},
   "outputs": [],
   "source": [
    "article"
   ]
  },
  {
   "cell_type": "markdown",
   "metadata": {},
   "source": [
    "### 人生不要留白"
   ]
  },
  {
   "cell_type": "code",
   "execution_count": null,
   "metadata": {},
   "outputs": [],
   "source": [
    "article = {\n",
    "    'url': res.url,\n",
    "    'title': title_tag.text.strip(),\n",
    "    'author': author_tag.text.strip(),\n",
    "    'datetime': datetime_tag.text.strip(),\n",
    "    'article_type': article_type_tag.text.strip(),\n",
    "    'article_content': article_content_tag.text.strip(),\n",
    "}\n",
    "article"
   ]
  },
  {
   "cell_type": "markdown",
   "metadata": {},
   "source": [
    "# 打包自訂函數"
   ]
  },
  {
   "cell_type": "code",
   "execution_count": null,
   "metadata": {},
   "outputs": [],
   "source": [
    "def getNewsContent(url):\n",
    "    res = requests.get(url)\n",
    "    soup = BeautifulSoup(res.text, 'lxml')\n",
    "    title_tag = soup.select_one('.entry-title')\n",
    "    author_tag = soup.select('.body')[0]\n",
    "    datetime_tag = soup.select('.body')[1]\n",
    "    article_type_tag = soup.select('.body')[2]\n",
    "    article_content_tag = soup.select_one('.indent')\n",
    "    article = {\n",
    "        'url': res.url,\n",
    "        'title': title_tag.text.strip(),\n",
    "        'author': author_tag.text.strip(),\n",
    "        'datetime': datetime_tag.text.strip(),\n",
    "        'article_type': article_type_tag.text.strip(),\n",
    "        'article_content': article_content_tag.text.strip(),\n",
    "    }\n",
    "    return article"
   ]
  },
  {
   "cell_type": "markdown",
   "metadata": {},
   "source": [
    "# 不同的網址"
   ]
  },
  {
   "cell_type": "code",
   "execution_count": null,
   "metadata": {},
   "outputs": [],
   "source": [
    "getNewsContent('https://finance.technews.tw/2021/05/10/acer-2353-202104-financial-report/')"
   ]
  },
  {
   "cell_type": "code",
   "execution_count": null,
   "metadata": {},
   "outputs": [],
   "source": [
    "getNewsContent('https://finance.technews.tw/2021/05/09/gptc-3131-202104-financial-report/')"
   ]
  },
  {
   "cell_type": "code",
   "execution_count": null,
   "metadata": {},
   "outputs": [],
   "source": []
  }
 ],
 "metadata": {
  "kernelspec": {
   "display_name": "Python 3",
   "language": "python",
   "name": "python3"
  },
  "language_info": {
   "codemirror_mode": {
    "name": "ipython",
    "version": 3
   },
   "file_extension": ".py",
   "mimetype": "text/x-python",
   "name": "python",
   "nbconvert_exporter": "python",
   "pygments_lexer": "ipython3",
   "version": "3.7.4"
  }
 },
 "nbformat": 4,
 "nbformat_minor": 2
}
