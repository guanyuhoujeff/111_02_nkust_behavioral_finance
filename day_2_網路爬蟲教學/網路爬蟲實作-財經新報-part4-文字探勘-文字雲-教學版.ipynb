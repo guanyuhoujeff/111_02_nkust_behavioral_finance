{
 "cells": [
  {
   "cell_type": "markdown",
   "metadata": {},
   "source": [
    "# 讀取剛剛存下來的新聞 excel"
   ]
  },
  {
   "cell_type": "code",
   "execution_count": null,
   "metadata": {},
   "outputs": [],
   "source": [
    "import pandas as pd"
   ]
  },
  {
   "cell_type": "code",
   "execution_count": null,
   "metadata": {
    "scrolled": true
   },
   "outputs": [],
   "source": [
    "# xlsx => 通常用 read_excel \n",
    "# csv, txt => 通常用 read_csv \n",
    "\n",
    "news_table = pd.?????('news-table.xlsx')\n",
    "news_table.head()"
   ]
  },
  {
   "cell_type": "markdown",
   "metadata": {},
   "source": [
    "# 進行斷詞"
   ]
  },
  {
   "cell_type": "code",
   "execution_count": null,
   "metadata": {},
   "outputs": [],
   "source": [
    "# 安裝套件\n",
    "# https://github.com/fxsjy/jieba\n",
    "!pip install jieba"
   ]
  },
  {
   "cell_type": "code",
   "execution_count": null,
   "metadata": {},
   "outputs": [],
   "source": [
    "import jieba"
   ]
  },
  {
   "cell_type": "code",
   "execution_count": null,
   "metadata": {},
   "outputs": [],
   "source": [
    "content = '青葡萄，紫葡萄，青葡萄沒紫葡萄紫，吃葡萄不吐葡萄皮，不吃葡萄倒吐葡萄皮'\n",
    "seg_content_list = jieba.????????(content)\n",
    "print(seg_content_list)"
   ]
  },
  {
   "cell_type": "markdown",
   "metadata": {},
   "source": [
    "# 好像有字沒斷詞正確？"
   ]
  },
  {
   "cell_type": "code",
   "execution_count": null,
   "metadata": {},
   "outputs": [],
   "source": [
    "# 在 my_dictionary 可以自定義不想被斷開的詞彙\n",
    "\n",
    "jieba.????????('./my_dictionary.txt')"
   ]
  },
  {
   "cell_type": "code",
   "execution_count": null,
   "metadata": {},
   "outputs": [],
   "source": [
    "seg_content_list = jieba.??????(content)\n",
    "print(seg_content_list)"
   ]
  },
  {
   "cell_type": "markdown",
   "metadata": {},
   "source": [
    "# 文字雲處理"
   ]
  },
  {
   "cell_type": "code",
   "execution_count": null,
   "metadata": {
    "scrolled": true
   },
   "outputs": [],
   "source": [
    "# 安裝套件\n",
    "!pip install wordcloud"
   ]
  },
  {
   "cell_type": "code",
   "execution_count": null,
   "metadata": {},
   "outputs": [],
   "source": [
    "from wordcloud import WordCloud\n",
    "import matplotlib.pyplot as plt"
   ]
  },
  {
   "cell_type": "code",
   "execution_count": null,
   "metadata": {},
   "outputs": [],
   "source": [
    "# font_path='SourceHanSansTW-Regular.otf' 目的是為了呈現中文字\n",
    "# 字型來源\n",
    "# https://raw.githubusercontent.com/victorgau/wordcloud/master/SourceHanSansTW-Regular.otf\n",
    "\n",
    "\n",
    "word_cloud = WordCloud(background_color='white', font_path='SourceHanSansTW-Regular.otf')"
   ]
  },
  {
   "cell_type": "code",
   "execution_count": null,
   "metadata": {},
   "outputs": [],
   "source": [
    "seg_text = ' '.?????(seg_content_list)\n",
    "seg_text"
   ]
  },
  {
   "cell_type": "code",
   "execution_count": null,
   "metadata": {},
   "outputs": [],
   "source": [
    "cloud_result = word_cloud.????????(seg_text)\n",
    "cloud_result"
   ]
  },
  {
   "cell_type": "code",
   "execution_count": null,
   "metadata": {},
   "outputs": [],
   "source": [
    "plt.figure(figsize=(20, 8))\n",
    "plt.imshow(cloud_result)\n",
    "plt.axis(\"off\") ## 不用刻度\n",
    "plt.show()"
   ]
  },
  {
   "cell_type": "markdown",
   "metadata": {},
   "source": [
    "# 試試看剛剛抓下來的新聞"
   ]
  },
  {
   "cell_type": "code",
   "execution_count": null,
   "metadata": {},
   "outputs": [],
   "source": [
    "def getSegText(full_text):\n",
    "    return \" \".join(jieba.lcut(full_text))"
   ]
  },
  {
   "cell_type": "code",
   "execution_count": null,
   "metadata": {},
   "outputs": [],
   "source": [
    "getSegText('青葡萄，紫葡萄，青葡萄沒紫葡萄紫，吃葡萄不吐葡萄皮，不吃葡萄倒吐葡萄皮')"
   ]
  },
  {
   "cell_type": "markdown",
   "metadata": {},
   "source": [
    "# 以內文進行分析"
   ]
  },
  {
   "cell_type": "code",
   "execution_count": null,
   "metadata": {},
   "outputs": [],
   "source": [
    "text_source = news_table[????]\n",
    "text_source"
   ]
  },
  {
   "cell_type": "code",
   "execution_count": null,
   "metadata": {
    "scrolled": true
   },
   "outputs": [],
   "source": [
    "seg_text = \" \".join(text_source.apply(getSegText))"
   ]
  },
  {
   "cell_type": "code",
   "execution_count": null,
   "metadata": {},
   "outputs": [],
   "source": [
    "cloud_result = word_cloud.generate(seg_text)\n",
    "plt.figure(figsize=(20, 8))\n",
    "plt.imshow(cloud_result)\n",
    "plt.axis(\"off\")\n",
    "plt.show()"
   ]
  },
  {
   "cell_type": "markdown",
   "metadata": {},
   "source": [
    "# 指定的關鍵字"
   ]
  },
  {
   "cell_type": "code",
   "execution_count": null,
   "metadata": {},
   "outputs": [],
   "source": [
    "column = 'article_content'\n",
    "\n",
    "# 在 column 欄位有出現指定的關鍵字\n",
    "text_source = news_table[column][\n",
    "    news_table[column].apply(lambda x: ??????? in x)\n",
    "]\n",
    "\n",
    "text_source"
   ]
  },
  {
   "cell_type": "code",
   "execution_count": null,
   "metadata": {},
   "outputs": [],
   "source": [
    "seg_text = \" \".join(text_source.apply(getSegText))\n",
    "cloud_result = word_cloud.generate(seg_text)\n",
    "plt.figure(figsize=(20, 8))\n",
    "plt.imshow(cloud_result)\n",
    "plt.axis(\"off\")\n",
    "plt.show()"
   ]
  },
  {
   "cell_type": "code",
   "execution_count": null,
   "metadata": {},
   "outputs": [],
   "source": [
    "# 把圖片存下來\n",
    "\n",
    "cloud_result.?????????('cloud_result.png')"
   ]
  },
  {
   "cell_type": "code",
   "execution_count": null,
   "metadata": {},
   "outputs": [],
   "source": []
  },
  {
   "cell_type": "code",
   "execution_count": null,
   "metadata": {},
   "outputs": [],
   "source": []
  }
 ],
 "metadata": {
  "kernelspec": {
   "display_name": "Python 3",
   "language": "python",
   "name": "python3"
  },
  "language_info": {
   "codemirror_mode": {
    "name": "ipython",
    "version": 3
   },
   "file_extension": ".py",
   "mimetype": "text/x-python",
   "name": "python",
   "nbconvert_exporter": "python",
   "pygments_lexer": "ipython3",
   "version": "3.7.4"
  }
 },
 "nbformat": 4,
 "nbformat_minor": 2
}
