{
 "cells": [
  {
   "cell_type": "code",
   "execution_count": null,
   "metadata": {},
   "outputs": [],
   "source": [
    "from cralwerManager import getNewsList, getNewsContent"
   ]
  },
  {
   "cell_type": "code",
   "execution_count": null,
   "metadata": {},
   "outputs": [],
   "source": [
    "url = 'https://technews.tw/category/finance/finance-report/page/3/'\n",
    "news_url_list = getNewsList(url)"
   ]
  },
  {
   "cell_type": "code",
   "execution_count": null,
   "metadata": {},
   "outputs": [],
   "source": [
    "news_content_list = []\n",
    "for news_url in news_url_list:\n",
    "    news_content = getNewsContent(news_url)\n",
    "    news_content_list.append(news_content)"
   ]
  },
  {
   "cell_type": "code",
   "execution_count": null,
   "metadata": {
    "scrolled": true
   },
   "outputs": [],
   "source": [
    "news_content_list"
   ]
  },
  {
   "cell_type": "markdown",
   "metadata": {},
   "source": [
    "# 雙層迴圈-目錄跟內文"
   ]
  },
  {
   "cell_type": "code",
   "execution_count": null,
   "metadata": {
    "scrolled": true
   },
   "outputs": [],
   "source": [
    "news_content_list = []\n",
    "\n",
    "for page_no in range(1, 11):\n",
    "    url = 'https://technews.tw/category/finance/finance-report/page/{}/'.format(page_no)\n",
    "    news_url_list = getNewsList(url)\n",
    "    for news_url in news_url_list:\n",
    "        news_content = getNewsContent(news_url)\n",
    "        news_content_list.append(news_content)\n",
    "    print('page {} done! '.format(page_no))"
   ]
  },
  {
   "cell_type": "markdown",
   "metadata": {},
   "source": [
    "# 存檔或是後續處理"
   ]
  },
  {
   "cell_type": "code",
   "execution_count": null,
   "metadata": {},
   "outputs": [],
   "source": [
    "import pandas as pd"
   ]
  },
  {
   "cell_type": "code",
   "execution_count": null,
   "metadata": {},
   "outputs": [],
   "source": [
    "news_table = pd.DataFrame(news_content_list)"
   ]
  },
  {
   "cell_type": "code",
   "execution_count": null,
   "metadata": {},
   "outputs": [],
   "source": [
    "news_table"
   ]
  },
  {
   "cell_type": "code",
   "execution_count": null,
   "metadata": {},
   "outputs": [],
   "source": [
    "news_table.to_excel('news-table.xlsx', index=False)"
   ]
  },
  {
   "cell_type": "markdown",
   "metadata": {},
   "source": [
    "# 進階解析"
   ]
  },
  {
   "cell_type": "code",
   "execution_count": null,
   "metadata": {},
   "outputs": [],
   "source": [
    "content = news_table['article_content'][4]"
   ]
  },
  {
   "cell_type": "markdown",
   "metadata": {},
   "source": [
    "### 取得股票名稱跟代碼"
   ]
  },
  {
   "cell_type": "code",
   "execution_count": null,
   "metadata": {},
   "outputs": [],
   "source": [
    "seg1 = content.split('）')[0]\n",
    "\n",
    "stock_name, stock_code = seg1.split(\"（\")\n",
    "stock_mom = content.split('月成長')[1].split('%')[0]\n",
    "stock_yoy = content.split('為年增')[1].split('%')[0]"
   ]
  },
  {
   "cell_type": "markdown",
   "metadata": {},
   "source": [
    "# 用 迴圈 處理"
   ]
  },
  {
   "cell_type": "code",
   "execution_count": null,
   "metadata": {},
   "outputs": [],
   "source": [
    " def parserContent(content):\n",
    "    try:\n",
    "        seg1 = content.split('）')[0]\n",
    "\n",
    "        stock_name, stock_code = seg1.split(\"（\")\n",
    "        stock_mom = content.split('月成長')[1].split('%')[0]\n",
    "\n",
    "        if '去年同期成長' in content:\n",
    "            stock_yoy = content.split('同期成長')[1].split('%')[0]\n",
    "        elif '為年增' in content:\n",
    "            stock_yoy = content.split('為年增')[1].split('%')[0]\n",
    "        else:\n",
    "            stock_yoy = None\n",
    "        return pd.Series({\n",
    "            'stock_name': stock_name,\n",
    "            'stock_code': stock_code,\n",
    "            'stock_mom': float(stock_mom),\n",
    "            'stock_yoy': float(stock_yoy)\n",
    "        })\n",
    "    except:\n",
    "        return pd.Series({\n",
    "            'stock_name': None,\n",
    "            'stock_code': None,\n",
    "            'stock_mom': None,\n",
    "            'stock_yoy': None\n",
    "        })"
   ]
  },
  {
   "cell_type": "code",
   "execution_count": null,
   "metadata": {},
   "outputs": [],
   "source": [
    "news_table.join(news_table['article_content'].apply(parserContent))"
   ]
  },
  {
   "cell_type": "code",
   "execution_count": null,
   "metadata": {},
   "outputs": [],
   "source": []
  }
 ],
 "metadata": {
  "kernelspec": {
   "display_name": "Python 3",
   "language": "python",
   "name": "python3"
  },
  "language_info": {
   "codemirror_mode": {
    "name": "ipython",
    "version": 3
   },
   "file_extension": ".py",
   "mimetype": "text/x-python",
   "name": "python",
   "nbconvert_exporter": "python",
   "pygments_lexer": "ipython3",
   "version": "3.7.4"
  }
 },
 "nbformat": 4,
 "nbformat_minor": 2
}
