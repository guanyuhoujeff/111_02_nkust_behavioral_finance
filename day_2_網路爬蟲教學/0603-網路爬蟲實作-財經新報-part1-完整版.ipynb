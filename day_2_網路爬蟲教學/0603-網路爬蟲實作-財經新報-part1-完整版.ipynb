{
 "cells": [
  {
   "cell_type": "code",
   "execution_count": null,
   "metadata": {},
   "outputs": [],
   "source": [
    "https://www.moneydj.com/kmdj/news/newsreallist.aspx?a=mb06"
   ]
  },
  {
   "cell_type": "code",
   "execution_count": null,
   "metadata": {},
   "outputs": [],
   "source": [
    "https://www.chinatimes.com/money/total?page=1&chdtv"
   ]
  },
  {
   "cell_type": "code",
   "execution_count": null,
   "metadata": {},
   "outputs": [],
   "source": [
    "https://finance.technews.tw/page/1600/"
   ]
  },
  {
   "cell_type": "code",
   "execution_count": 2,
   "metadata": {},
   "outputs": [],
   "source": []
  },
  {
   "cell_type": "code",
   "execution_count": 3,
   "metadata": {},
   "outputs": [
    {
     "name": "stderr",
     "output_type": "stream",
     "text": [
      "/Users/gy/opt/anaconda3/lib/python3.7/site-packages/ipykernel_launcher.py:7: DeprecationWarning: use options instead of chrome_options\n",
      "  import sys\n"
     ]
    }
   ],
   "source": [
    "from selenium import webdriver\n",
    "from selenium.webdriver.chrome.options import Options\n",
    "import requests\n",
    "from bs4 import BeautifulSoup\n",
    "\n",
    "\n",
    "options = Options()\n",
    "options.add_argument(\"--disable-notifications\")  # 取消所有的alert彈出視窗\n",
    "options.add_argument(\"headless\")\n",
    "user_account = 'jeff7522553@gmail.com'\n",
    "password = 'a0926191157'\n",
    "login_url = 'https://member.technews.tw/login'\n",
    "browser = webdriver.Chrome(chrome_options=options)\n",
    "browser.get(login_url)\n",
    "browser.find_element_by_name('username').send_keys(user_account)\n",
    "browser.find_element_by_name('password').send_keys(password)\n",
    "browser.find_element_by_class_name('submit').click()"
   ]
  },
  {
   "cell_type": "code",
   "execution_count": 4,
   "metadata": {},
   "outputs": [],
   "source": []
  },
  {
   "cell_type": "code",
   "execution_count": null,
   "metadata": {},
   "outputs": [],
   "source": []
  },
  {
   "cell_type": "code",
   "execution_count": 5,
   "metadata": {},
   "outputs": [],
   "source": [
    "url = 'https://finance.technews.tw/2017/03/28/iphone8-jpmorgan/'\n",
    "\n",
    "browser.get(url)\n",
    "soup = BeautifulSoup(browser.page_source, 'lxml')"
   ]
  },
  {
   "cell_type": "code",
   "execution_count": null,
   "metadata": {},
   "outputs": [],
   "source": []
  },
  {
   "cell_type": "code",
   "execution_count": 12,
   "metadata": {},
   "outputs": [],
   "source": [
    "def getNewsContent(url):\n",
    "    res = requests.get(url)\n",
    "\n",
    "    if '這篇文章為深度內容，只有加入會員可以觀看' in res.text:\n",
    "        #print(\"走 browser\")\n",
    "        # 需要驗證的網頁\n",
    "        browser.get(url)\n",
    "        soup = BeautifulSoup(browser.page_source, 'lxml')\n",
    "    else:\n",
    "        #print(\"走 requests\")\n",
    "        soup = BeautifulSoup(res.text, 'lxml')\n",
    "    \n",
    "    title_tag = soup.select_one('.entry-title')\n",
    "    author_tag = soup.select('.body')[0]\n",
    "    datetime_tag = soup.select('.body')[1]\n",
    "    article_type_tag = soup.select('.body')[2]\n",
    "    article_content_tag = soup.select_one('.indent')\n",
    "    article = {\n",
    "        'url': res.url,\n",
    "        '_id': res.url,\n",
    "        'title': title_tag.text.strip(),\n",
    "        'author': author_tag.text.strip(),\n",
    "        'datetime': datetime_tag.text.strip(),\n",
    "        'article_type': [t.strip() for t in article['article_type'].split(',')],\n",
    "        'article_content': article_content_tag.text.strip(),\n",
    "    }\n",
    "    return article"
   ]
  },
  {
   "cell_type": "code",
   "execution_count": 13,
   "metadata": {},
   "outputs": [
    {
     "name": "stdout",
     "output_type": "stream",
     "text": [
      "走 browser\n"
     ]
    }
   ],
   "source": [
    "article = getNewsContent(url)"
   ]
  },
  {
   "cell_type": "code",
   "execution_count": null,
   "metadata": {},
   "outputs": [],
   "source": []
  },
  {
   "cell_type": "code",
   "execution_count": null,
   "metadata": {},
   "outputs": [],
   "source": []
  },
  {
   "cell_type": "markdown",
   "metadata": {},
   "source": [
    "# 財經新報-財報快訊版\n",
    "\n",
    "https://technews.tw/category/finance/finance-report/"
   ]
  },
  {
   "cell_type": "markdown",
   "metadata": {},
   "source": [
    "### 1. 網路請求"
   ]
  },
  {
   "cell_type": "code",
   "execution_count": null,
   "metadata": {},
   "outputs": [],
   "source": [
    "import requests"
   ]
  },
  {
   "cell_type": "code",
   "execution_count": null,
   "metadata": {},
   "outputs": [],
   "source": [
    "url = 'https://technews.tw/category/finance/finance-report/'\n",
    "res = requests.get(url)"
   ]
  },
  {
   "cell_type": "code",
   "execution_count": null,
   "metadata": {},
   "outputs": [],
   "source": [
    "'www.abc.123'"
   ]
  },
  {
   "cell_type": "code",
   "execution_count": null,
   "metadata": {},
   "outputs": [],
   "source": [
    "print('請求的網站：', res.url)\n",
    "print('請求回覆的狀況（對方伺服器回我們什麼）：', res.status_code)"
   ]
  },
  {
   "cell_type": "code",
   "execution_count": null,
   "metadata": {},
   "outputs": [],
   "source": [
    "if res.status_code < 400:\n",
    "    print('Done')"
   ]
  },
  {
   "cell_type": "markdown",
   "metadata": {},
   "source": [
    "### 取得網頁原始檔"
   ]
  },
  {
   "cell_type": "code",
   "execution_count": null,
   "metadata": {
    "scrolled": true
   },
   "outputs": [],
   "source": [
    "res.text"
   ]
  },
  {
   "cell_type": "markdown",
   "metadata": {},
   "source": [
    "# 解析網頁"
   ]
  },
  {
   "cell_type": "code",
   "execution_count": null,
   "metadata": {},
   "outputs": [],
   "source": [
    "from bs4 import BeautifulSoup"
   ]
  },
  {
   "cell_type": "code",
   "execution_count": null,
   "metadata": {},
   "outputs": [],
   "source": [
    "?BeautifulSoup"
   ]
  },
  {
   "cell_type": "code",
   "execution_count": null,
   "metadata": {},
   "outputs": [],
   "source": [
    "soup = BeautifulSoup(res.text, 'lxml')"
   ]
  },
  {
   "cell_type": "code",
   "execution_count": null,
   "metadata": {
    "scrolled": true
   },
   "outputs": [],
   "source": [
    "soup"
   ]
  },
  {
   "cell_type": "markdown",
   "metadata": {},
   "source": [
    "# tag\n",
    "### <[tag] [attribute]>"
   ]
  },
  {
   "cell_type": "markdown",
   "metadata": {},
   "source": [
    "### 使用 find"
   ]
  },
  {
   "cell_type": "code",
   "execution_count": null,
   "metadata": {},
   "outputs": [],
   "source": [
    "soup.find('a')"
   ]
  },
  {
   "cell_type": "code",
   "execution_count": null,
   "metadata": {},
   "outputs": [],
   "source": [
    "# find 什麼 tag, attrs 是什麼\n",
    "soup.find('h1', attrs={\"class\":\"entry-title\"})"
   ]
  },
  {
   "cell_type": "code",
   "execution_count": null,
   "metadata": {
    "scrolled": false
   },
   "outputs": [],
   "source": [
    "soup.find_all('h1', attrs={\"class\":\"entry-title\"})"
   ]
  },
  {
   "cell_type": "markdown",
   "metadata": {},
   "source": [
    "### 使用 select"
   ]
  },
  {
   "cell_type": "code",
   "execution_count": null,
   "metadata": {},
   "outputs": [],
   "source": [
    "# select  ,  \n",
    "\"\"\"\n",
    "# ==> 表示 id  \n",
    ". ==> 表示 class\n",
    "\"\"\"\n",
    "\n",
    "soup.select_one('h1')"
   ]
  },
  {
   "cell_type": "code",
   "execution_count": null,
   "metadata": {},
   "outputs": [],
   "source": [
    "soup.select_one('.entry-title')"
   ]
  },
  {
   "cell_type": "code",
   "execution_count": null,
   "metadata": {
    "scrolled": true
   },
   "outputs": [],
   "source": [
    "soup.select('.entry-title')"
   ]
  },
  {
   "cell_type": "markdown",
   "metadata": {},
   "source": [
    "# 取出文字 （網頁上能看到的）"
   ]
  },
  {
   "cell_type": "code",
   "execution_count": null,
   "metadata": {},
   "outputs": [],
   "source": [
    "news_tag = soup.select_one('.entry-title')\n",
    "news_tag"
   ]
  },
  {
   "cell_type": "code",
   "execution_count": null,
   "metadata": {},
   "outputs": [],
   "source": [
    "news_tag.text"
   ]
  },
  {
   "cell_type": "markdown",
   "metadata": {},
   "source": [
    "# 取出屬性"
   ]
  },
  {
   "cell_type": "code",
   "execution_count": null,
   "metadata": {},
   "outputs": [],
   "source": [
    "news_tag = soup.select_one('.entry-title')\n",
    "news_tag"
   ]
  },
  {
   "cell_type": "code",
   "execution_count": null,
   "metadata": {},
   "outputs": [],
   "source": [
    "news_tag.a.get('href')"
   ]
  },
  {
   "cell_type": "markdown",
   "metadata": {},
   "source": [
    "# 迴圈取得網址"
   ]
  },
  {
   "cell_type": "code",
   "execution_count": null,
   "metadata": {},
   "outputs": [],
   "source": [
    "news_url_list = []\n",
    "for news_tag in soup.select('.entry-title'):\n",
    "    news_url = news_tag.a.get('href')\n",
    "    print(\"news_url ==> \", news_url)\n",
    "    news_url_list.append(news_url)"
   ]
  },
  {
   "cell_type": "markdown",
   "metadata": {},
   "source": [
    "# 打包成自訂函式"
   ]
  },
  {
   "cell_type": "code",
   "execution_count": null,
   "metadata": {},
   "outputs": [],
   "source": [
    "def getNewsList(url):\n",
    "    res = requests.get(url)\n",
    "    soup = BeautifulSoup(res.text, 'lxml')\n",
    "    news_url_list = []\n",
    "    for news_tag in soup.select('.entry-title'):\n",
    "        news_url = news_tag.a.get('href')\n",
    "        #print(\"news_url ==> \", news_url)\n",
    "        news_url_list.append(news_url)\n",
    "    return news_url_list"
   ]
  },
  {
   "cell_type": "code",
   "execution_count": null,
   "metadata": {},
   "outputs": [],
   "source": [
    "getNewsList('https://technews.tw/category/finance/finance-report/')"
   ]
  },
  {
   "cell_type": "code",
   "execution_count": null,
   "metadata": {},
   "outputs": [],
   "source": [
    "getNewsList('https://technews.tw/category/finance/finance-report/page/3/')"
   ]
  },
  {
   "cell_type": "code",
   "execution_count": null,
   "metadata": {},
   "outputs": [],
   "source": []
  }
 ],
 "metadata": {
  "kernelspec": {
   "display_name": "Python 3",
   "language": "python",
   "name": "python3"
  },
  "language_info": {
   "codemirror_mode": {
    "name": "ipython",
    "version": 3
   },
   "file_extension": ".py",
   "mimetype": "text/x-python",
   "name": "python",
   "nbconvert_exporter": "python",
   "pygments_lexer": "ipython3",
   "version": "3.7.4"
  }
 },
 "nbformat": 4,
 "nbformat_minor": 2
}
